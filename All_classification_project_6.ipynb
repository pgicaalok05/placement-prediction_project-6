{
  "nbformat": 4,
  "nbformat_minor": 0,
  "metadata": {
    "colab": {
      "provenance": []
    },
    "kernelspec": {
      "name": "python3",
      "display_name": "Python 3"
    },
    "language_info": {
      "name": "python"
    }
  },
  "cells": [
    {
      "cell_type": "code",
      "execution_count": null,
      "metadata": {
        "id": "Z2H61KXnNDjl"
      },
      "outputs": [],
      "source": [
        "import numpy as np\n",
        "import matplotlib.pyplot as plt\n",
        "import pandas as pd"
      ]
    },
    {
      "cell_type": "code",
      "source": [
        "from google.colab import drive\n",
        "drive.mount('/content/drive')"
      ],
      "metadata": {
        "colab": {
          "base_uri": "https://localhost:8080/"
        },
        "id": "FgxdoBmmRpXz",
        "outputId": "ed713aff-6013-408d-c821-5969017b6479"
      },
      "execution_count": null,
      "outputs": [
        {
          "output_type": "stream",
          "name": "stdout",
          "text": [
            "Mounted at /content/drive\n"
          ]
        }
      ]
    },
    {
      "cell_type": "code",
      "source": [
        "dataset= pd.read_excel('/content/drive/My Drive/Colab Notebooks/Dataset/DATASET education.xlsx')\n",
        "dataset"
      ],
      "metadata": {
        "colab": {
          "base_uri": "https://localhost:8080/",
          "height": 424
        },
        "id": "ssZCTQaXRtxo",
        "outputId": "d8a75e22-11e7-4592-8367-7ff65afc8518"
      },
      "execution_count": null,
      "outputs": [
        {
          "output_type": "execute_result",
          "data": {
            "text/plain": [
              "      10th  12th  B.Tech  7-SEM  6-SEM  5-SEM  Final Performance  Medium  \\\n",
              "0    74.83  75.2   72.80  67.04  34.53  18.40              56.77       2   \n",
              "1    89.30  80.8   69.60  73.49  31.81  21.50              61.38       1   \n",
              "2    79.83  75.4   58.70  62.82  31.44   5.38              51.81       2   \n",
              "3    68.40  59.6   54.40  65.17  35.92  10.92              54.84       1   \n",
              "4    79.80  69.8   74.45  76.24  44.50  44.20              67.80       1   \n",
              "..     ...   ...     ...    ...    ...    ...                ...     ...   \n",
              "114  76.00  82.6   68.25  56.96  22.25   7.50              46.25       1   \n",
              "115  83.60  75.8   70.10  64.83  34.22   7.08              53.92       1   \n",
              "116  89.30  68.4   77.55  67.57  36.82  25.64              58.27       1   \n",
              "117  89.30  72.0   74.90  65.10  31.44  35.75              56.63       1   \n",
              "118  53.20  71.6   71.00  40.08  30.53   0.88              34.48       1   \n",
              "\n",
              "      Package  Placed  \n",
              "0      5.0LPA       1  \n",
              "1        0LPA       0  \n",
              "2        0LPA       0  \n",
              "3     10.0LPA       1  \n",
              "4    3.36 LPA       1  \n",
              "..        ...     ...  \n",
              "114   3.8 LPA       1  \n",
              "115   3.6 LPA       1  \n",
              "116   3.8 LPA       1  \n",
              "117      0LPA       0  \n",
              "118  2.40 LPA       1  \n",
              "\n",
              "[119 rows x 10 columns]"
            ],
            "text/html": [
              "\n",
              "  <div id=\"df-f58b3c6b-fe7a-48e1-b088-4d8dd6fd8420\">\n",
              "    <div class=\"colab-df-container\">\n",
              "      <div>\n",
              "<style scoped>\n",
              "    .dataframe tbody tr th:only-of-type {\n",
              "        vertical-align: middle;\n",
              "    }\n",
              "\n",
              "    .dataframe tbody tr th {\n",
              "        vertical-align: top;\n",
              "    }\n",
              "\n",
              "    .dataframe thead th {\n",
              "        text-align: right;\n",
              "    }\n",
              "</style>\n",
              "<table border=\"1\" class=\"dataframe\">\n",
              "  <thead>\n",
              "    <tr style=\"text-align: right;\">\n",
              "      <th></th>\n",
              "      <th>10th</th>\n",
              "      <th>12th</th>\n",
              "      <th>B.Tech</th>\n",
              "      <th>7-SEM</th>\n",
              "      <th>6-SEM</th>\n",
              "      <th>5-SEM</th>\n",
              "      <th>Final Performance</th>\n",
              "      <th>Medium</th>\n",
              "      <th>Package</th>\n",
              "      <th>Placed</th>\n",
              "    </tr>\n",
              "  </thead>\n",
              "  <tbody>\n",
              "    <tr>\n",
              "      <th>0</th>\n",
              "      <td>74.83</td>\n",
              "      <td>75.2</td>\n",
              "      <td>72.80</td>\n",
              "      <td>67.04</td>\n",
              "      <td>34.53</td>\n",
              "      <td>18.40</td>\n",
              "      <td>56.77</td>\n",
              "      <td>2</td>\n",
              "      <td>5.0LPA</td>\n",
              "      <td>1</td>\n",
              "    </tr>\n",
              "    <tr>\n",
              "      <th>1</th>\n",
              "      <td>89.30</td>\n",
              "      <td>80.8</td>\n",
              "      <td>69.60</td>\n",
              "      <td>73.49</td>\n",
              "      <td>31.81</td>\n",
              "      <td>21.50</td>\n",
              "      <td>61.38</td>\n",
              "      <td>1</td>\n",
              "      <td>0LPA</td>\n",
              "      <td>0</td>\n",
              "    </tr>\n",
              "    <tr>\n",
              "      <th>2</th>\n",
              "      <td>79.83</td>\n",
              "      <td>75.4</td>\n",
              "      <td>58.70</td>\n",
              "      <td>62.82</td>\n",
              "      <td>31.44</td>\n",
              "      <td>5.38</td>\n",
              "      <td>51.81</td>\n",
              "      <td>2</td>\n",
              "      <td>0LPA</td>\n",
              "      <td>0</td>\n",
              "    </tr>\n",
              "    <tr>\n",
              "      <th>3</th>\n",
              "      <td>68.40</td>\n",
              "      <td>59.6</td>\n",
              "      <td>54.40</td>\n",
              "      <td>65.17</td>\n",
              "      <td>35.92</td>\n",
              "      <td>10.92</td>\n",
              "      <td>54.84</td>\n",
              "      <td>1</td>\n",
              "      <td>10.0LPA</td>\n",
              "      <td>1</td>\n",
              "    </tr>\n",
              "    <tr>\n",
              "      <th>4</th>\n",
              "      <td>79.80</td>\n",
              "      <td>69.8</td>\n",
              "      <td>74.45</td>\n",
              "      <td>76.24</td>\n",
              "      <td>44.50</td>\n",
              "      <td>44.20</td>\n",
              "      <td>67.80</td>\n",
              "      <td>1</td>\n",
              "      <td>3.36 LPA</td>\n",
              "      <td>1</td>\n",
              "    </tr>\n",
              "    <tr>\n",
              "      <th>...</th>\n",
              "      <td>...</td>\n",
              "      <td>...</td>\n",
              "      <td>...</td>\n",
              "      <td>...</td>\n",
              "      <td>...</td>\n",
              "      <td>...</td>\n",
              "      <td>...</td>\n",
              "      <td>...</td>\n",
              "      <td>...</td>\n",
              "      <td>...</td>\n",
              "    </tr>\n",
              "    <tr>\n",
              "      <th>114</th>\n",
              "      <td>76.00</td>\n",
              "      <td>82.6</td>\n",
              "      <td>68.25</td>\n",
              "      <td>56.96</td>\n",
              "      <td>22.25</td>\n",
              "      <td>7.50</td>\n",
              "      <td>46.25</td>\n",
              "      <td>1</td>\n",
              "      <td>3.8 LPA</td>\n",
              "      <td>1</td>\n",
              "    </tr>\n",
              "    <tr>\n",
              "      <th>115</th>\n",
              "      <td>83.60</td>\n",
              "      <td>75.8</td>\n",
              "      <td>70.10</td>\n",
              "      <td>64.83</td>\n",
              "      <td>34.22</td>\n",
              "      <td>7.08</td>\n",
              "      <td>53.92</td>\n",
              "      <td>1</td>\n",
              "      <td>3.6 LPA</td>\n",
              "      <td>1</td>\n",
              "    </tr>\n",
              "    <tr>\n",
              "      <th>116</th>\n",
              "      <td>89.30</td>\n",
              "      <td>68.4</td>\n",
              "      <td>77.55</td>\n",
              "      <td>67.57</td>\n",
              "      <td>36.82</td>\n",
              "      <td>25.64</td>\n",
              "      <td>58.27</td>\n",
              "      <td>1</td>\n",
              "      <td>3.8 LPA</td>\n",
              "      <td>1</td>\n",
              "    </tr>\n",
              "    <tr>\n",
              "      <th>117</th>\n",
              "      <td>89.30</td>\n",
              "      <td>72.0</td>\n",
              "      <td>74.90</td>\n",
              "      <td>65.10</td>\n",
              "      <td>31.44</td>\n",
              "      <td>35.75</td>\n",
              "      <td>56.63</td>\n",
              "      <td>1</td>\n",
              "      <td>0LPA</td>\n",
              "      <td>0</td>\n",
              "    </tr>\n",
              "    <tr>\n",
              "      <th>118</th>\n",
              "      <td>53.20</td>\n",
              "      <td>71.6</td>\n",
              "      <td>71.00</td>\n",
              "      <td>40.08</td>\n",
              "      <td>30.53</td>\n",
              "      <td>0.88</td>\n",
              "      <td>34.48</td>\n",
              "      <td>1</td>\n",
              "      <td>2.40 LPA</td>\n",
              "      <td>1</td>\n",
              "    </tr>\n",
              "  </tbody>\n",
              "</table>\n",
              "<p>119 rows × 10 columns</p>\n",
              "</div>\n",
              "      <button class=\"colab-df-convert\" onclick=\"convertToInteractive('df-f58b3c6b-fe7a-48e1-b088-4d8dd6fd8420')\"\n",
              "              title=\"Convert this dataframe to an interactive table.\"\n",
              "              style=\"display:none;\">\n",
              "        \n",
              "  <svg xmlns=\"http://www.w3.org/2000/svg\" height=\"24px\"viewBox=\"0 0 24 24\"\n",
              "       width=\"24px\">\n",
              "    <path d=\"M0 0h24v24H0V0z\" fill=\"none\"/>\n",
              "    <path d=\"M18.56 5.44l.94 2.06.94-2.06 2.06-.94-2.06-.94-.94-2.06-.94 2.06-2.06.94zm-11 1L8.5 8.5l.94-2.06 2.06-.94-2.06-.94L8.5 2.5l-.94 2.06-2.06.94zm10 10l.94 2.06.94-2.06 2.06-.94-2.06-.94-.94-2.06-.94 2.06-2.06.94z\"/><path d=\"M17.41 7.96l-1.37-1.37c-.4-.4-.92-.59-1.43-.59-.52 0-1.04.2-1.43.59L10.3 9.45l-7.72 7.72c-.78.78-.78 2.05 0 2.83L4 21.41c.39.39.9.59 1.41.59.51 0 1.02-.2 1.41-.59l7.78-7.78 2.81-2.81c.8-.78.8-2.07 0-2.86zM5.41 20L4 18.59l7.72-7.72 1.47 1.35L5.41 20z\"/>\n",
              "  </svg>\n",
              "      </button>\n",
              "      \n",
              "  <style>\n",
              "    .colab-df-container {\n",
              "      display:flex;\n",
              "      flex-wrap:wrap;\n",
              "      gap: 12px;\n",
              "    }\n",
              "\n",
              "    .colab-df-convert {\n",
              "      background-color: #E8F0FE;\n",
              "      border: none;\n",
              "      border-radius: 50%;\n",
              "      cursor: pointer;\n",
              "      display: none;\n",
              "      fill: #1967D2;\n",
              "      height: 32px;\n",
              "      padding: 0 0 0 0;\n",
              "      width: 32px;\n",
              "    }\n",
              "\n",
              "    .colab-df-convert:hover {\n",
              "      background-color: #E2EBFA;\n",
              "      box-shadow: 0px 1px 2px rgba(60, 64, 67, 0.3), 0px 1px 3px 1px rgba(60, 64, 67, 0.15);\n",
              "      fill: #174EA6;\n",
              "    }\n",
              "\n",
              "    [theme=dark] .colab-df-convert {\n",
              "      background-color: #3B4455;\n",
              "      fill: #D2E3FC;\n",
              "    }\n",
              "\n",
              "    [theme=dark] .colab-df-convert:hover {\n",
              "      background-color: #434B5C;\n",
              "      box-shadow: 0px 1px 3px 1px rgba(0, 0, 0, 0.15);\n",
              "      filter: drop-shadow(0px 1px 2px rgba(0, 0, 0, 0.3));\n",
              "      fill: #FFFFFF;\n",
              "    }\n",
              "  </style>\n",
              "\n",
              "      <script>\n",
              "        const buttonEl =\n",
              "          document.querySelector('#df-f58b3c6b-fe7a-48e1-b088-4d8dd6fd8420 button.colab-df-convert');\n",
              "        buttonEl.style.display =\n",
              "          google.colab.kernel.accessAllowed ? 'block' : 'none';\n",
              "\n",
              "        async function convertToInteractive(key) {\n",
              "          const element = document.querySelector('#df-f58b3c6b-fe7a-48e1-b088-4d8dd6fd8420');\n",
              "          const dataTable =\n",
              "            await google.colab.kernel.invokeFunction('convertToInteractive',\n",
              "                                                     [key], {});\n",
              "          if (!dataTable) return;\n",
              "\n",
              "          const docLinkHtml = 'Like what you see? Visit the ' +\n",
              "            '<a target=\"_blank\" href=https://colab.research.google.com/notebooks/data_table.ipynb>data table notebook</a>'\n",
              "            + ' to learn more about interactive tables.';\n",
              "          element.innerHTML = '';\n",
              "          dataTable['output_type'] = 'display_data';\n",
              "          await google.colab.output.renderOutput(dataTable, element);\n",
              "          const docLink = document.createElement('div');\n",
              "          docLink.innerHTML = docLinkHtml;\n",
              "          element.appendChild(docLink);\n",
              "        }\n",
              "      </script>\n",
              "    </div>\n",
              "  </div>\n",
              "  "
            ]
          },
          "metadata": {},
          "execution_count": 9
        }
      ]
    },
    {
      "cell_type": "code",
      "source": [
        "dataset.isnull().sum()"
      ],
      "metadata": {
        "colab": {
          "base_uri": "https://localhost:8080/"
        },
        "id": "jjlkZXDmR3w7",
        "outputId": "990aa593-9ca7-44a3-d7bd-530dfaed7fd7"
      },
      "execution_count": null,
      "outputs": [
        {
          "output_type": "execute_result",
          "data": {
            "text/plain": [
              "10th                 0\n",
              "12th                 0\n",
              "B.Tech               0\n",
              "7-SEM                0\n",
              "6-SEM                0\n",
              "5-SEM                0\n",
              "Final Performance    0\n",
              "Medium               0\n",
              "Package              0\n",
              "Placed               0\n",
              "dtype: int64"
            ]
          },
          "metadata": {},
          "execution_count": 10
        }
      ]
    },
    {
      "cell_type": "code",
      "source": [
        "#Count total number of classes in Data\n",
        "class_counts = dataset.groupby('Placed').size()\n",
        "print(class_counts)"
      ],
      "metadata": {
        "colab": {
          "base_uri": "https://localhost:8080/"
        },
        "id": "Px1vdQRtSYLD",
        "outputId": "fd886fea-87ee-4afc-aed9-3ef5cd586a5c"
      },
      "execution_count": null,
      "outputs": [
        {
          "output_type": "stream",
          "name": "stdout",
          "text": [
            "Placed\n",
            "0    36\n",
            "1    83\n",
            "dtype: int64\n"
          ]
        }
      ]
    },
    {
      "cell_type": "code",
      "source": [
        "dataset.describe()"
      ],
      "metadata": {
        "colab": {
          "base_uri": "https://localhost:8080/",
          "height": 300
        },
        "id": "RS8gk6VHSe8N",
        "outputId": "c06bc72e-88ae-4904-eb4b-2a1d29927218"
      },
      "execution_count": null,
      "outputs": [
        {
          "output_type": "execute_result",
          "data": {
            "text/plain": [
              "             10th        12th      B.Tech       7-SEM       6-SEM       5-SEM  \\\n",
              "count  119.000000  119.000000  119.000000  119.000000  119.000000  119.000000   \n",
              "mean    78.908235   72.000000   66.523109   62.792773   37.074202   26.036975   \n",
              "std      9.670518    9.984938    9.915475   11.930053    9.680815   17.317577   \n",
              "min     53.200000   49.000000   26.850000    2.130000    3.240000    0.000000   \n",
              "25%     72.200000   64.900000   61.325000   56.980000   32.265000   11.835000   \n",
              "50%     79.800000   71.600000   68.350000   63.260000   37.840000   24.150000   \n",
              "75%     85.500000   80.100000   72.875000   68.900000   43.090000   35.515000   \n",
              "max     96.830000   92.200000   85.950000   94.000000   59.410000   80.400000   \n",
              "\n",
              "       Final Performance      Medium      Placed  \n",
              "count         119.000000  119.000000  119.000000  \n",
              "mean           53.690672    1.226891    0.697479  \n",
              "std            11.413422    0.420592    0.461292  \n",
              "min             1.230000    1.000000    0.000000  \n",
              "25%            48.535000    1.000000    0.000000  \n",
              "50%            54.080000    1.000000    1.000000  \n",
              "75%            59.440000    1.000000    1.000000  \n",
              "max            76.030000    2.000000    1.000000  "
            ],
            "text/html": [
              "\n",
              "  <div id=\"df-bb01444f-c13a-41a7-b675-678e81369fc5\">\n",
              "    <div class=\"colab-df-container\">\n",
              "      <div>\n",
              "<style scoped>\n",
              "    .dataframe tbody tr th:only-of-type {\n",
              "        vertical-align: middle;\n",
              "    }\n",
              "\n",
              "    .dataframe tbody tr th {\n",
              "        vertical-align: top;\n",
              "    }\n",
              "\n",
              "    .dataframe thead th {\n",
              "        text-align: right;\n",
              "    }\n",
              "</style>\n",
              "<table border=\"1\" class=\"dataframe\">\n",
              "  <thead>\n",
              "    <tr style=\"text-align: right;\">\n",
              "      <th></th>\n",
              "      <th>10th</th>\n",
              "      <th>12th</th>\n",
              "      <th>B.Tech</th>\n",
              "      <th>7-SEM</th>\n",
              "      <th>6-SEM</th>\n",
              "      <th>5-SEM</th>\n",
              "      <th>Final Performance</th>\n",
              "      <th>Medium</th>\n",
              "      <th>Placed</th>\n",
              "    </tr>\n",
              "  </thead>\n",
              "  <tbody>\n",
              "    <tr>\n",
              "      <th>count</th>\n",
              "      <td>119.000000</td>\n",
              "      <td>119.000000</td>\n",
              "      <td>119.000000</td>\n",
              "      <td>119.000000</td>\n",
              "      <td>119.000000</td>\n",
              "      <td>119.000000</td>\n",
              "      <td>119.000000</td>\n",
              "      <td>119.000000</td>\n",
              "      <td>119.000000</td>\n",
              "    </tr>\n",
              "    <tr>\n",
              "      <th>mean</th>\n",
              "      <td>78.908235</td>\n",
              "      <td>72.000000</td>\n",
              "      <td>66.523109</td>\n",
              "      <td>62.792773</td>\n",
              "      <td>37.074202</td>\n",
              "      <td>26.036975</td>\n",
              "      <td>53.690672</td>\n",
              "      <td>1.226891</td>\n",
              "      <td>0.697479</td>\n",
              "    </tr>\n",
              "    <tr>\n",
              "      <th>std</th>\n",
              "      <td>9.670518</td>\n",
              "      <td>9.984938</td>\n",
              "      <td>9.915475</td>\n",
              "      <td>11.930053</td>\n",
              "      <td>9.680815</td>\n",
              "      <td>17.317577</td>\n",
              "      <td>11.413422</td>\n",
              "      <td>0.420592</td>\n",
              "      <td>0.461292</td>\n",
              "    </tr>\n",
              "    <tr>\n",
              "      <th>min</th>\n",
              "      <td>53.200000</td>\n",
              "      <td>49.000000</td>\n",
              "      <td>26.850000</td>\n",
              "      <td>2.130000</td>\n",
              "      <td>3.240000</td>\n",
              "      <td>0.000000</td>\n",
              "      <td>1.230000</td>\n",
              "      <td>1.000000</td>\n",
              "      <td>0.000000</td>\n",
              "    </tr>\n",
              "    <tr>\n",
              "      <th>25%</th>\n",
              "      <td>72.200000</td>\n",
              "      <td>64.900000</td>\n",
              "      <td>61.325000</td>\n",
              "      <td>56.980000</td>\n",
              "      <td>32.265000</td>\n",
              "      <td>11.835000</td>\n",
              "      <td>48.535000</td>\n",
              "      <td>1.000000</td>\n",
              "      <td>0.000000</td>\n",
              "    </tr>\n",
              "    <tr>\n",
              "      <th>50%</th>\n",
              "      <td>79.800000</td>\n",
              "      <td>71.600000</td>\n",
              "      <td>68.350000</td>\n",
              "      <td>63.260000</td>\n",
              "      <td>37.840000</td>\n",
              "      <td>24.150000</td>\n",
              "      <td>54.080000</td>\n",
              "      <td>1.000000</td>\n",
              "      <td>1.000000</td>\n",
              "    </tr>\n",
              "    <tr>\n",
              "      <th>75%</th>\n",
              "      <td>85.500000</td>\n",
              "      <td>80.100000</td>\n",
              "      <td>72.875000</td>\n",
              "      <td>68.900000</td>\n",
              "      <td>43.090000</td>\n",
              "      <td>35.515000</td>\n",
              "      <td>59.440000</td>\n",
              "      <td>1.000000</td>\n",
              "      <td>1.000000</td>\n",
              "    </tr>\n",
              "    <tr>\n",
              "      <th>max</th>\n",
              "      <td>96.830000</td>\n",
              "      <td>92.200000</td>\n",
              "      <td>85.950000</td>\n",
              "      <td>94.000000</td>\n",
              "      <td>59.410000</td>\n",
              "      <td>80.400000</td>\n",
              "      <td>76.030000</td>\n",
              "      <td>2.000000</td>\n",
              "      <td>1.000000</td>\n",
              "    </tr>\n",
              "  </tbody>\n",
              "</table>\n",
              "</div>\n",
              "      <button class=\"colab-df-convert\" onclick=\"convertToInteractive('df-bb01444f-c13a-41a7-b675-678e81369fc5')\"\n",
              "              title=\"Convert this dataframe to an interactive table.\"\n",
              "              style=\"display:none;\">\n",
              "        \n",
              "  <svg xmlns=\"http://www.w3.org/2000/svg\" height=\"24px\"viewBox=\"0 0 24 24\"\n",
              "       width=\"24px\">\n",
              "    <path d=\"M0 0h24v24H0V0z\" fill=\"none\"/>\n",
              "    <path d=\"M18.56 5.44l.94 2.06.94-2.06 2.06-.94-2.06-.94-.94-2.06-.94 2.06-2.06.94zm-11 1L8.5 8.5l.94-2.06 2.06-.94-2.06-.94L8.5 2.5l-.94 2.06-2.06.94zm10 10l.94 2.06.94-2.06 2.06-.94-2.06-.94-.94-2.06-.94 2.06-2.06.94z\"/><path d=\"M17.41 7.96l-1.37-1.37c-.4-.4-.92-.59-1.43-.59-.52 0-1.04.2-1.43.59L10.3 9.45l-7.72 7.72c-.78.78-.78 2.05 0 2.83L4 21.41c.39.39.9.59 1.41.59.51 0 1.02-.2 1.41-.59l7.78-7.78 2.81-2.81c.8-.78.8-2.07 0-2.86zM5.41 20L4 18.59l7.72-7.72 1.47 1.35L5.41 20z\"/>\n",
              "  </svg>\n",
              "      </button>\n",
              "      \n",
              "  <style>\n",
              "    .colab-df-container {\n",
              "      display:flex;\n",
              "      flex-wrap:wrap;\n",
              "      gap: 12px;\n",
              "    }\n",
              "\n",
              "    .colab-df-convert {\n",
              "      background-color: #E8F0FE;\n",
              "      border: none;\n",
              "      border-radius: 50%;\n",
              "      cursor: pointer;\n",
              "      display: none;\n",
              "      fill: #1967D2;\n",
              "      height: 32px;\n",
              "      padding: 0 0 0 0;\n",
              "      width: 32px;\n",
              "    }\n",
              "\n",
              "    .colab-df-convert:hover {\n",
              "      background-color: #E2EBFA;\n",
              "      box-shadow: 0px 1px 2px rgba(60, 64, 67, 0.3), 0px 1px 3px 1px rgba(60, 64, 67, 0.15);\n",
              "      fill: #174EA6;\n",
              "    }\n",
              "\n",
              "    [theme=dark] .colab-df-convert {\n",
              "      background-color: #3B4455;\n",
              "      fill: #D2E3FC;\n",
              "    }\n",
              "\n",
              "    [theme=dark] .colab-df-convert:hover {\n",
              "      background-color: #434B5C;\n",
              "      box-shadow: 0px 1px 3px 1px rgba(0, 0, 0, 0.15);\n",
              "      filter: drop-shadow(0px 1px 2px rgba(0, 0, 0, 0.3));\n",
              "      fill: #FFFFFF;\n",
              "    }\n",
              "  </style>\n",
              "\n",
              "      <script>\n",
              "        const buttonEl =\n",
              "          document.querySelector('#df-bb01444f-c13a-41a7-b675-678e81369fc5 button.colab-df-convert');\n",
              "        buttonEl.style.display =\n",
              "          google.colab.kernel.accessAllowed ? 'block' : 'none';\n",
              "\n",
              "        async function convertToInteractive(key) {\n",
              "          const element = document.querySelector('#df-bb01444f-c13a-41a7-b675-678e81369fc5');\n",
              "          const dataTable =\n",
              "            await google.colab.kernel.invokeFunction('convertToInteractive',\n",
              "                                                     [key], {});\n",
              "          if (!dataTable) return;\n",
              "\n",
              "          const docLinkHtml = 'Like what you see? Visit the ' +\n",
              "            '<a target=\"_blank\" href=https://colab.research.google.com/notebooks/data_table.ipynb>data table notebook</a>'\n",
              "            + ' to learn more about interactive tables.';\n",
              "          element.innerHTML = '';\n",
              "          dataTable['output_type'] = 'display_data';\n",
              "          await google.colab.output.renderOutput(dataTable, element);\n",
              "          const docLink = document.createElement('div');\n",
              "          docLink.innerHTML = docLinkHtml;\n",
              "          element.appendChild(docLink);\n",
              "        }\n",
              "      </script>\n",
              "    </div>\n",
              "  </div>\n",
              "  "
            ]
          },
          "metadata": {},
          "execution_count": 12
        }
      ]
    },
    {
      "cell_type": "code",
      "source": [
        "X  = dataset.iloc[:,0:8]\n",
        "y = dataset.iloc[:, 9]"
      ],
      "metadata": {
        "id": "lXq3DHWySkCq"
      },
      "execution_count": null,
      "outputs": []
    },
    {
      "cell_type": "code",
      "source": [
        "print(X)"
      ],
      "metadata": {
        "colab": {
          "base_uri": "https://localhost:8080/"
        },
        "id": "WEUsGlYpSnuW",
        "outputId": "71871da0-1925-427f-df11-93b9707ed59e"
      },
      "execution_count": null,
      "outputs": [
        {
          "output_type": "stream",
          "name": "stdout",
          "text": [
            "      10th  12th  B.Tech  7-SEM  6-SEM  5-SEM  Final Performance  Medium\n",
            "0    74.83  75.2   72.80  67.04  34.53  18.40              56.77       2\n",
            "1    89.30  80.8   69.60  73.49  31.81  21.50              61.38       1\n",
            "2    79.83  75.4   58.70  62.82  31.44   5.38              51.81       2\n",
            "3    68.40  59.6   54.40  65.17  35.92  10.92              54.84       1\n",
            "4    79.80  69.8   74.45  76.24  44.50  44.20              67.80       1\n",
            "..     ...   ...     ...    ...    ...    ...                ...     ...\n",
            "114  76.00  82.6   68.25  56.96  22.25   7.50              46.25       1\n",
            "115  83.60  75.8   70.10  64.83  34.22   7.08              53.92       1\n",
            "116  89.30  68.4   77.55  67.57  36.82  25.64              58.27       1\n",
            "117  89.30  72.0   74.90  65.10  31.44  35.75              56.63       1\n",
            "118  53.20  71.6   71.00  40.08  30.53   0.88              34.48       1\n",
            "\n",
            "[119 rows x 8 columns]\n"
          ]
        }
      ]
    },
    {
      "cell_type": "code",
      "source": [
        "print(y)"
      ],
      "metadata": {
        "colab": {
          "base_uri": "https://localhost:8080/"
        },
        "id": "BXqEA1ZrS1m5",
        "outputId": "58a1a965-1781-42a3-8870-9ab492501b95"
      },
      "execution_count": null,
      "outputs": [
        {
          "output_type": "stream",
          "name": "stdout",
          "text": [
            "0      1\n",
            "1      0\n",
            "2      0\n",
            "3      1\n",
            "4      1\n",
            "      ..\n",
            "114    1\n",
            "115    1\n",
            "116    1\n",
            "117    0\n",
            "118    1\n",
            "Name: Placed, Length: 119, dtype: int64\n"
          ]
        }
      ]
    },
    {
      "cell_type": "code",
      "source": [
        "from sklearn.model_selection import train_test_split\n",
        "X_train, X_test, y_train, y_test = train_test_split(X, y, test_size = 0.25, random_state = 5)"
      ],
      "metadata": {
        "id": "ybQ2Oy-NS32n"
      },
      "execution_count": null,
      "outputs": []
    },
    {
      "cell_type": "code",
      "source": [
        "X_train"
      ],
      "metadata": {
        "colab": {
          "base_uri": "https://localhost:8080/",
          "height": 424
        },
        "id": "-ZX9-PYqTqg5",
        "outputId": "28a0212c-a9aa-4f8f-e030-38c117a7acd6"
      },
      "execution_count": null,
      "outputs": [
        {
          "output_type": "execute_result",
          "data": {
            "text/plain": [
              "      10th  12th  B.Tech  7-SEM  6-SEM  5-SEM  Final Performance  Medium\n",
              "60   95.00  68.6   70.50  66.25  19.54  12.59              53.16       1\n",
              "22   70.00  64.4   55.30  59.42  32.04  28.04              51.76       2\n",
              "64   85.50  82.2   79.70  72.86  45.93  30.03              64.08       1\n",
              "110  76.00  84.2   68.45  59.87  41.15  24.15              53.16       1\n",
              "70   70.00  61.8   66.75  63.80  40.29  40.73              57.62       1\n",
              "..     ...   ...     ...    ...    ...    ...                ...     ...\n",
              "102  68.40  54.4   26.85  63.89  17.47  29.97              52.88       1\n",
              "61   53.20  53.6   59.75  45.33  41.45  43.15              44.48       1\n",
              "111  76.67  69.2   65.00  60.97  27.75  34.88              52.91       2\n",
              "78   73.83  80.2   59.70  57.35  41.53  10.64              49.97       2\n",
              "99   86.33  89.8   70.85  62.65  34.00  31.91              54.85       2\n",
              "\n",
              "[89 rows x 8 columns]"
            ],
            "text/html": [
              "\n",
              "  <div id=\"df-05bda8bd-e293-4a35-a001-e00d6a6dbbaa\">\n",
              "    <div class=\"colab-df-container\">\n",
              "      <div>\n",
              "<style scoped>\n",
              "    .dataframe tbody tr th:only-of-type {\n",
              "        vertical-align: middle;\n",
              "    }\n",
              "\n",
              "    .dataframe tbody tr th {\n",
              "        vertical-align: top;\n",
              "    }\n",
              "\n",
              "    .dataframe thead th {\n",
              "        text-align: right;\n",
              "    }\n",
              "</style>\n",
              "<table border=\"1\" class=\"dataframe\">\n",
              "  <thead>\n",
              "    <tr style=\"text-align: right;\">\n",
              "      <th></th>\n",
              "      <th>10th</th>\n",
              "      <th>12th</th>\n",
              "      <th>B.Tech</th>\n",
              "      <th>7-SEM</th>\n",
              "      <th>6-SEM</th>\n",
              "      <th>5-SEM</th>\n",
              "      <th>Final Performance</th>\n",
              "      <th>Medium</th>\n",
              "    </tr>\n",
              "  </thead>\n",
              "  <tbody>\n",
              "    <tr>\n",
              "      <th>60</th>\n",
              "      <td>95.00</td>\n",
              "      <td>68.6</td>\n",
              "      <td>70.50</td>\n",
              "      <td>66.25</td>\n",
              "      <td>19.54</td>\n",
              "      <td>12.59</td>\n",
              "      <td>53.16</td>\n",
              "      <td>1</td>\n",
              "    </tr>\n",
              "    <tr>\n",
              "      <th>22</th>\n",
              "      <td>70.00</td>\n",
              "      <td>64.4</td>\n",
              "      <td>55.30</td>\n",
              "      <td>59.42</td>\n",
              "      <td>32.04</td>\n",
              "      <td>28.04</td>\n",
              "      <td>51.76</td>\n",
              "      <td>2</td>\n",
              "    </tr>\n",
              "    <tr>\n",
              "      <th>64</th>\n",
              "      <td>85.50</td>\n",
              "      <td>82.2</td>\n",
              "      <td>79.70</td>\n",
              "      <td>72.86</td>\n",
              "      <td>45.93</td>\n",
              "      <td>30.03</td>\n",
              "      <td>64.08</td>\n",
              "      <td>1</td>\n",
              "    </tr>\n",
              "    <tr>\n",
              "      <th>110</th>\n",
              "      <td>76.00</td>\n",
              "      <td>84.2</td>\n",
              "      <td>68.45</td>\n",
              "      <td>59.87</td>\n",
              "      <td>41.15</td>\n",
              "      <td>24.15</td>\n",
              "      <td>53.16</td>\n",
              "      <td>1</td>\n",
              "    </tr>\n",
              "    <tr>\n",
              "      <th>70</th>\n",
              "      <td>70.00</td>\n",
              "      <td>61.8</td>\n",
              "      <td>66.75</td>\n",
              "      <td>63.80</td>\n",
              "      <td>40.29</td>\n",
              "      <td>40.73</td>\n",
              "      <td>57.62</td>\n",
              "      <td>1</td>\n",
              "    </tr>\n",
              "    <tr>\n",
              "      <th>...</th>\n",
              "      <td>...</td>\n",
              "      <td>...</td>\n",
              "      <td>...</td>\n",
              "      <td>...</td>\n",
              "      <td>...</td>\n",
              "      <td>...</td>\n",
              "      <td>...</td>\n",
              "      <td>...</td>\n",
              "    </tr>\n",
              "    <tr>\n",
              "      <th>102</th>\n",
              "      <td>68.40</td>\n",
              "      <td>54.4</td>\n",
              "      <td>26.85</td>\n",
              "      <td>63.89</td>\n",
              "      <td>17.47</td>\n",
              "      <td>29.97</td>\n",
              "      <td>52.88</td>\n",
              "      <td>1</td>\n",
              "    </tr>\n",
              "    <tr>\n",
              "      <th>61</th>\n",
              "      <td>53.20</td>\n",
              "      <td>53.6</td>\n",
              "      <td>59.75</td>\n",
              "      <td>45.33</td>\n",
              "      <td>41.45</td>\n",
              "      <td>43.15</td>\n",
              "      <td>44.48</td>\n",
              "      <td>1</td>\n",
              "    </tr>\n",
              "    <tr>\n",
              "      <th>111</th>\n",
              "      <td>76.67</td>\n",
              "      <td>69.2</td>\n",
              "      <td>65.00</td>\n",
              "      <td>60.97</td>\n",
              "      <td>27.75</td>\n",
              "      <td>34.88</td>\n",
              "      <td>52.91</td>\n",
              "      <td>2</td>\n",
              "    </tr>\n",
              "    <tr>\n",
              "      <th>78</th>\n",
              "      <td>73.83</td>\n",
              "      <td>80.2</td>\n",
              "      <td>59.70</td>\n",
              "      <td>57.35</td>\n",
              "      <td>41.53</td>\n",
              "      <td>10.64</td>\n",
              "      <td>49.97</td>\n",
              "      <td>2</td>\n",
              "    </tr>\n",
              "    <tr>\n",
              "      <th>99</th>\n",
              "      <td>86.33</td>\n",
              "      <td>89.8</td>\n",
              "      <td>70.85</td>\n",
              "      <td>62.65</td>\n",
              "      <td>34.00</td>\n",
              "      <td>31.91</td>\n",
              "      <td>54.85</td>\n",
              "      <td>2</td>\n",
              "    </tr>\n",
              "  </tbody>\n",
              "</table>\n",
              "<p>89 rows × 8 columns</p>\n",
              "</div>\n",
              "      <button class=\"colab-df-convert\" onclick=\"convertToInteractive('df-05bda8bd-e293-4a35-a001-e00d6a6dbbaa')\"\n",
              "              title=\"Convert this dataframe to an interactive table.\"\n",
              "              style=\"display:none;\">\n",
              "        \n",
              "  <svg xmlns=\"http://www.w3.org/2000/svg\" height=\"24px\"viewBox=\"0 0 24 24\"\n",
              "       width=\"24px\">\n",
              "    <path d=\"M0 0h24v24H0V0z\" fill=\"none\"/>\n",
              "    <path d=\"M18.56 5.44l.94 2.06.94-2.06 2.06-.94-2.06-.94-.94-2.06-.94 2.06-2.06.94zm-11 1L8.5 8.5l.94-2.06 2.06-.94-2.06-.94L8.5 2.5l-.94 2.06-2.06.94zm10 10l.94 2.06.94-2.06 2.06-.94-2.06-.94-.94-2.06-.94 2.06-2.06.94z\"/><path d=\"M17.41 7.96l-1.37-1.37c-.4-.4-.92-.59-1.43-.59-.52 0-1.04.2-1.43.59L10.3 9.45l-7.72 7.72c-.78.78-.78 2.05 0 2.83L4 21.41c.39.39.9.59 1.41.59.51 0 1.02-.2 1.41-.59l7.78-7.78 2.81-2.81c.8-.78.8-2.07 0-2.86zM5.41 20L4 18.59l7.72-7.72 1.47 1.35L5.41 20z\"/>\n",
              "  </svg>\n",
              "      </button>\n",
              "      \n",
              "  <style>\n",
              "    .colab-df-container {\n",
              "      display:flex;\n",
              "      flex-wrap:wrap;\n",
              "      gap: 12px;\n",
              "    }\n",
              "\n",
              "    .colab-df-convert {\n",
              "      background-color: #E8F0FE;\n",
              "      border: none;\n",
              "      border-radius: 50%;\n",
              "      cursor: pointer;\n",
              "      display: none;\n",
              "      fill: #1967D2;\n",
              "      height: 32px;\n",
              "      padding: 0 0 0 0;\n",
              "      width: 32px;\n",
              "    }\n",
              "\n",
              "    .colab-df-convert:hover {\n",
              "      background-color: #E2EBFA;\n",
              "      box-shadow: 0px 1px 2px rgba(60, 64, 67, 0.3), 0px 1px 3px 1px rgba(60, 64, 67, 0.15);\n",
              "      fill: #174EA6;\n",
              "    }\n",
              "\n",
              "    [theme=dark] .colab-df-convert {\n",
              "      background-color: #3B4455;\n",
              "      fill: #D2E3FC;\n",
              "    }\n",
              "\n",
              "    [theme=dark] .colab-df-convert:hover {\n",
              "      background-color: #434B5C;\n",
              "      box-shadow: 0px 1px 3px 1px rgba(0, 0, 0, 0.15);\n",
              "      filter: drop-shadow(0px 1px 2px rgba(0, 0, 0, 0.3));\n",
              "      fill: #FFFFFF;\n",
              "    }\n",
              "  </style>\n",
              "\n",
              "      <script>\n",
              "        const buttonEl =\n",
              "          document.querySelector('#df-05bda8bd-e293-4a35-a001-e00d6a6dbbaa button.colab-df-convert');\n",
              "        buttonEl.style.display =\n",
              "          google.colab.kernel.accessAllowed ? 'block' : 'none';\n",
              "\n",
              "        async function convertToInteractive(key) {\n",
              "          const element = document.querySelector('#df-05bda8bd-e293-4a35-a001-e00d6a6dbbaa');\n",
              "          const dataTable =\n",
              "            await google.colab.kernel.invokeFunction('convertToInteractive',\n",
              "                                                     [key], {});\n",
              "          if (!dataTable) return;\n",
              "\n",
              "          const docLinkHtml = 'Like what you see? Visit the ' +\n",
              "            '<a target=\"_blank\" href=https://colab.research.google.com/notebooks/data_table.ipynb>data table notebook</a>'\n",
              "            + ' to learn more about interactive tables.';\n",
              "          element.innerHTML = '';\n",
              "          dataTable['output_type'] = 'display_data';\n",
              "          await google.colab.output.renderOutput(dataTable, element);\n",
              "          const docLink = document.createElement('div');\n",
              "          docLink.innerHTML = docLinkHtml;\n",
              "          element.appendChild(docLink);\n",
              "        }\n",
              "      </script>\n",
              "    </div>\n",
              "  </div>\n",
              "  "
            ]
          },
          "metadata": {},
          "execution_count": 17
        }
      ]
    },
    {
      "cell_type": "code",
      "source": [
        "y_train"
      ],
      "metadata": {
        "colab": {
          "base_uri": "https://localhost:8080/"
        },
        "id": "XHlX0TkmT1Q5",
        "outputId": "2d3753e8-3d69-40e6-dacf-47a035af4ad2"
      },
      "execution_count": null,
      "outputs": [
        {
          "output_type": "execute_result",
          "data": {
            "text/plain": [
              "60     1\n",
              "22     0\n",
              "64     1\n",
              "110    1\n",
              "70     0\n",
              "      ..\n",
              "102    0\n",
              "61     1\n",
              "111    1\n",
              "78     0\n",
              "99     1\n",
              "Name: Placed, Length: 89, dtype: int64"
            ]
          },
          "metadata": {},
          "execution_count": 18
        }
      ]
    },
    {
      "cell_type": "code",
      "source": [
        "X_test"
      ],
      "metadata": {
        "colab": {
          "base_uri": "https://localhost:8080/",
          "height": 990
        },
        "id": "SqDidnCyT8nm",
        "outputId": "c06f5ab4-4825-4016-c111-17933c24f1b7"
      },
      "execution_count": null,
      "outputs": [
        {
          "output_type": "execute_result",
          "data": {
            "text/plain": [
              "      10th  12th  B.Tech  7-SEM  6-SEM  5-SEM  Final Performance  Medium\n",
              "71   77.90  58.4   61.45  72.48  45.71  21.76              62.91       1\n",
              "59   73.17  68.8   71.60  62.29  34.38   6.01              51.96       1\n",
              "39   87.40  79.6   69.90  65.89  39.65  37.28              58.70       1\n",
              "10   81.70  61.4   68.15  61.32  44.05  37.44              56.06       1\n",
              "83   70.30  58.4   68.35  49.24  38.52   7.11              43.15       1\n",
              "23   74.10  66.6   57.35  42.18  11.14  13.90              34.24       1\n",
              "57   70.30  58.8   55.70  63.24  36.07   9.03              53.25       1\n",
              "42   72.20  53.2   55.00  60.89  35.58  16.36              52.20       1\n",
              "56   80.50  89.2   80.65  63.26  39.16  42.79              57.25       2\n",
              "74   62.70  62.8   67.20  55.67  41.23   4.68              48.07       1\n",
              "28   74.10  65.6   64.55  58.82  29.48   4.76              48.49       1\n",
              "35   95.00  89.0   77.05  65.71  37.84  41.38              58.70       1\n",
              "17   66.50  75.2   74.55  73.76  46.46  37.97              65.65       1\n",
              "79   74.10  64.8   59.35  65.00  39.12  16.70              55.83       1\n",
              "63   67.17  86.6   64.60  46.34  40.66  39.60              44.73       2\n",
              "6    77.33  65.6   66.30  73.34  49.02  23.09              64.22       1\n",
              "114  76.00  82.6   68.25  56.96  22.25   7.50              46.25       1\n",
              "91   86.83  78.4   72.05  66.16  43.41  31.86              58.94       2\n",
              "98   89.33  82.4   80.90  71.68  44.65   6.56              60.58       1\n",
              "88   95.00  82.4   77.60  63.83  44.39  15.82              55.73       1\n",
              "20   81.70  56.8   59.90  59.94  41.60  22.47              53.11       1\n",
              "49   82.33  83.2   77.05  61.69  45.22  47.15              57.52       2\n",
              "43   72.20  63.2   48.20  54.38  32.15   6.99              45.90       1\n",
              "66   92.67  86.0   73.15  71.63  46.01  25.76              62.75       1\n",
              "37   81.00  84.8   68.95  62.63  41.45  40.76              56.95       2\n",
              "48   72.20  60.8   60.85  68.27  32.83  15.31              57.07       1\n",
              "97   83.83  80.0   69.00  73.46  36.48  28.40              62.83       2\n",
              "116  89.30  68.4   77.55  67.57  36.82  25.64              58.27       1\n",
              "81   81.70  59.2   68.00  67.86  40.70  17.64              58.29       1\n",
              "46   76.00  74.6   63.05  81.49  27.86  52.32              69.82       1"
            ],
            "text/html": [
              "\n",
              "  <div id=\"df-5a996f16-4506-406f-8161-0409fe831cb7\">\n",
              "    <div class=\"colab-df-container\">\n",
              "      <div>\n",
              "<style scoped>\n",
              "    .dataframe tbody tr th:only-of-type {\n",
              "        vertical-align: middle;\n",
              "    }\n",
              "\n",
              "    .dataframe tbody tr th {\n",
              "        vertical-align: top;\n",
              "    }\n",
              "\n",
              "    .dataframe thead th {\n",
              "        text-align: right;\n",
              "    }\n",
              "</style>\n",
              "<table border=\"1\" class=\"dataframe\">\n",
              "  <thead>\n",
              "    <tr style=\"text-align: right;\">\n",
              "      <th></th>\n",
              "      <th>10th</th>\n",
              "      <th>12th</th>\n",
              "      <th>B.Tech</th>\n",
              "      <th>7-SEM</th>\n",
              "      <th>6-SEM</th>\n",
              "      <th>5-SEM</th>\n",
              "      <th>Final Performance</th>\n",
              "      <th>Medium</th>\n",
              "    </tr>\n",
              "  </thead>\n",
              "  <tbody>\n",
              "    <tr>\n",
              "      <th>71</th>\n",
              "      <td>77.90</td>\n",
              "      <td>58.4</td>\n",
              "      <td>61.45</td>\n",
              "      <td>72.48</td>\n",
              "      <td>45.71</td>\n",
              "      <td>21.76</td>\n",
              "      <td>62.91</td>\n",
              "      <td>1</td>\n",
              "    </tr>\n",
              "    <tr>\n",
              "      <th>59</th>\n",
              "      <td>73.17</td>\n",
              "      <td>68.8</td>\n",
              "      <td>71.60</td>\n",
              "      <td>62.29</td>\n",
              "      <td>34.38</td>\n",
              "      <td>6.01</td>\n",
              "      <td>51.96</td>\n",
              "      <td>1</td>\n",
              "    </tr>\n",
              "    <tr>\n",
              "      <th>39</th>\n",
              "      <td>87.40</td>\n",
              "      <td>79.6</td>\n",
              "      <td>69.90</td>\n",
              "      <td>65.89</td>\n",
              "      <td>39.65</td>\n",
              "      <td>37.28</td>\n",
              "      <td>58.70</td>\n",
              "      <td>1</td>\n",
              "    </tr>\n",
              "    <tr>\n",
              "      <th>10</th>\n",
              "      <td>81.70</td>\n",
              "      <td>61.4</td>\n",
              "      <td>68.15</td>\n",
              "      <td>61.32</td>\n",
              "      <td>44.05</td>\n",
              "      <td>37.44</td>\n",
              "      <td>56.06</td>\n",
              "      <td>1</td>\n",
              "    </tr>\n",
              "    <tr>\n",
              "      <th>83</th>\n",
              "      <td>70.30</td>\n",
              "      <td>58.4</td>\n",
              "      <td>68.35</td>\n",
              "      <td>49.24</td>\n",
              "      <td>38.52</td>\n",
              "      <td>7.11</td>\n",
              "      <td>43.15</td>\n",
              "      <td>1</td>\n",
              "    </tr>\n",
              "    <tr>\n",
              "      <th>23</th>\n",
              "      <td>74.10</td>\n",
              "      <td>66.6</td>\n",
              "      <td>57.35</td>\n",
              "      <td>42.18</td>\n",
              "      <td>11.14</td>\n",
              "      <td>13.90</td>\n",
              "      <td>34.24</td>\n",
              "      <td>1</td>\n",
              "    </tr>\n",
              "    <tr>\n",
              "      <th>57</th>\n",
              "      <td>70.30</td>\n",
              "      <td>58.8</td>\n",
              "      <td>55.70</td>\n",
              "      <td>63.24</td>\n",
              "      <td>36.07</td>\n",
              "      <td>9.03</td>\n",
              "      <td>53.25</td>\n",
              "      <td>1</td>\n",
              "    </tr>\n",
              "    <tr>\n",
              "      <th>42</th>\n",
              "      <td>72.20</td>\n",
              "      <td>53.2</td>\n",
              "      <td>55.00</td>\n",
              "      <td>60.89</td>\n",
              "      <td>35.58</td>\n",
              "      <td>16.36</td>\n",
              "      <td>52.20</td>\n",
              "      <td>1</td>\n",
              "    </tr>\n",
              "    <tr>\n",
              "      <th>56</th>\n",
              "      <td>80.50</td>\n",
              "      <td>89.2</td>\n",
              "      <td>80.65</td>\n",
              "      <td>63.26</td>\n",
              "      <td>39.16</td>\n",
              "      <td>42.79</td>\n",
              "      <td>57.25</td>\n",
              "      <td>2</td>\n",
              "    </tr>\n",
              "    <tr>\n",
              "      <th>74</th>\n",
              "      <td>62.70</td>\n",
              "      <td>62.8</td>\n",
              "      <td>67.20</td>\n",
              "      <td>55.67</td>\n",
              "      <td>41.23</td>\n",
              "      <td>4.68</td>\n",
              "      <td>48.07</td>\n",
              "      <td>1</td>\n",
              "    </tr>\n",
              "    <tr>\n",
              "      <th>28</th>\n",
              "      <td>74.10</td>\n",
              "      <td>65.6</td>\n",
              "      <td>64.55</td>\n",
              "      <td>58.82</td>\n",
              "      <td>29.48</td>\n",
              "      <td>4.76</td>\n",
              "      <td>48.49</td>\n",
              "      <td>1</td>\n",
              "    </tr>\n",
              "    <tr>\n",
              "      <th>35</th>\n",
              "      <td>95.00</td>\n",
              "      <td>89.0</td>\n",
              "      <td>77.05</td>\n",
              "      <td>65.71</td>\n",
              "      <td>37.84</td>\n",
              "      <td>41.38</td>\n",
              "      <td>58.70</td>\n",
              "      <td>1</td>\n",
              "    </tr>\n",
              "    <tr>\n",
              "      <th>17</th>\n",
              "      <td>66.50</td>\n",
              "      <td>75.2</td>\n",
              "      <td>74.55</td>\n",
              "      <td>73.76</td>\n",
              "      <td>46.46</td>\n",
              "      <td>37.97</td>\n",
              "      <td>65.65</td>\n",
              "      <td>1</td>\n",
              "    </tr>\n",
              "    <tr>\n",
              "      <th>79</th>\n",
              "      <td>74.10</td>\n",
              "      <td>64.8</td>\n",
              "      <td>59.35</td>\n",
              "      <td>65.00</td>\n",
              "      <td>39.12</td>\n",
              "      <td>16.70</td>\n",
              "      <td>55.83</td>\n",
              "      <td>1</td>\n",
              "    </tr>\n",
              "    <tr>\n",
              "      <th>63</th>\n",
              "      <td>67.17</td>\n",
              "      <td>86.6</td>\n",
              "      <td>64.60</td>\n",
              "      <td>46.34</td>\n",
              "      <td>40.66</td>\n",
              "      <td>39.60</td>\n",
              "      <td>44.73</td>\n",
              "      <td>2</td>\n",
              "    </tr>\n",
              "    <tr>\n",
              "      <th>6</th>\n",
              "      <td>77.33</td>\n",
              "      <td>65.6</td>\n",
              "      <td>66.30</td>\n",
              "      <td>73.34</td>\n",
              "      <td>49.02</td>\n",
              "      <td>23.09</td>\n",
              "      <td>64.22</td>\n",
              "      <td>1</td>\n",
              "    </tr>\n",
              "    <tr>\n",
              "      <th>114</th>\n",
              "      <td>76.00</td>\n",
              "      <td>82.6</td>\n",
              "      <td>68.25</td>\n",
              "      <td>56.96</td>\n",
              "      <td>22.25</td>\n",
              "      <td>7.50</td>\n",
              "      <td>46.25</td>\n",
              "      <td>1</td>\n",
              "    </tr>\n",
              "    <tr>\n",
              "      <th>91</th>\n",
              "      <td>86.83</td>\n",
              "      <td>78.4</td>\n",
              "      <td>72.05</td>\n",
              "      <td>66.16</td>\n",
              "      <td>43.41</td>\n",
              "      <td>31.86</td>\n",
              "      <td>58.94</td>\n",
              "      <td>2</td>\n",
              "    </tr>\n",
              "    <tr>\n",
              "      <th>98</th>\n",
              "      <td>89.33</td>\n",
              "      <td>82.4</td>\n",
              "      <td>80.90</td>\n",
              "      <td>71.68</td>\n",
              "      <td>44.65</td>\n",
              "      <td>6.56</td>\n",
              "      <td>60.58</td>\n",
              "      <td>1</td>\n",
              "    </tr>\n",
              "    <tr>\n",
              "      <th>88</th>\n",
              "      <td>95.00</td>\n",
              "      <td>82.4</td>\n",
              "      <td>77.60</td>\n",
              "      <td>63.83</td>\n",
              "      <td>44.39</td>\n",
              "      <td>15.82</td>\n",
              "      <td>55.73</td>\n",
              "      <td>1</td>\n",
              "    </tr>\n",
              "    <tr>\n",
              "      <th>20</th>\n",
              "      <td>81.70</td>\n",
              "      <td>56.8</td>\n",
              "      <td>59.90</td>\n",
              "      <td>59.94</td>\n",
              "      <td>41.60</td>\n",
              "      <td>22.47</td>\n",
              "      <td>53.11</td>\n",
              "      <td>1</td>\n",
              "    </tr>\n",
              "    <tr>\n",
              "      <th>49</th>\n",
              "      <td>82.33</td>\n",
              "      <td>83.2</td>\n",
              "      <td>77.05</td>\n",
              "      <td>61.69</td>\n",
              "      <td>45.22</td>\n",
              "      <td>47.15</td>\n",
              "      <td>57.52</td>\n",
              "      <td>2</td>\n",
              "    </tr>\n",
              "    <tr>\n",
              "      <th>43</th>\n",
              "      <td>72.20</td>\n",
              "      <td>63.2</td>\n",
              "      <td>48.20</td>\n",
              "      <td>54.38</td>\n",
              "      <td>32.15</td>\n",
              "      <td>6.99</td>\n",
              "      <td>45.90</td>\n",
              "      <td>1</td>\n",
              "    </tr>\n",
              "    <tr>\n",
              "      <th>66</th>\n",
              "      <td>92.67</td>\n",
              "      <td>86.0</td>\n",
              "      <td>73.15</td>\n",
              "      <td>71.63</td>\n",
              "      <td>46.01</td>\n",
              "      <td>25.76</td>\n",
              "      <td>62.75</td>\n",
              "      <td>1</td>\n",
              "    </tr>\n",
              "    <tr>\n",
              "      <th>37</th>\n",
              "      <td>81.00</td>\n",
              "      <td>84.8</td>\n",
              "      <td>68.95</td>\n",
              "      <td>62.63</td>\n",
              "      <td>41.45</td>\n",
              "      <td>40.76</td>\n",
              "      <td>56.95</td>\n",
              "      <td>2</td>\n",
              "    </tr>\n",
              "    <tr>\n",
              "      <th>48</th>\n",
              "      <td>72.20</td>\n",
              "      <td>60.8</td>\n",
              "      <td>60.85</td>\n",
              "      <td>68.27</td>\n",
              "      <td>32.83</td>\n",
              "      <td>15.31</td>\n",
              "      <td>57.07</td>\n",
              "      <td>1</td>\n",
              "    </tr>\n",
              "    <tr>\n",
              "      <th>97</th>\n",
              "      <td>83.83</td>\n",
              "      <td>80.0</td>\n",
              "      <td>69.00</td>\n",
              "      <td>73.46</td>\n",
              "      <td>36.48</td>\n",
              "      <td>28.40</td>\n",
              "      <td>62.83</td>\n",
              "      <td>2</td>\n",
              "    </tr>\n",
              "    <tr>\n",
              "      <th>116</th>\n",
              "      <td>89.30</td>\n",
              "      <td>68.4</td>\n",
              "      <td>77.55</td>\n",
              "      <td>67.57</td>\n",
              "      <td>36.82</td>\n",
              "      <td>25.64</td>\n",
              "      <td>58.27</td>\n",
              "      <td>1</td>\n",
              "    </tr>\n",
              "    <tr>\n",
              "      <th>81</th>\n",
              "      <td>81.70</td>\n",
              "      <td>59.2</td>\n",
              "      <td>68.00</td>\n",
              "      <td>67.86</td>\n",
              "      <td>40.70</td>\n",
              "      <td>17.64</td>\n",
              "      <td>58.29</td>\n",
              "      <td>1</td>\n",
              "    </tr>\n",
              "    <tr>\n",
              "      <th>46</th>\n",
              "      <td>76.00</td>\n",
              "      <td>74.6</td>\n",
              "      <td>63.05</td>\n",
              "      <td>81.49</td>\n",
              "      <td>27.86</td>\n",
              "      <td>52.32</td>\n",
              "      <td>69.82</td>\n",
              "      <td>1</td>\n",
              "    </tr>\n",
              "  </tbody>\n",
              "</table>\n",
              "</div>\n",
              "      <button class=\"colab-df-convert\" onclick=\"convertToInteractive('df-5a996f16-4506-406f-8161-0409fe831cb7')\"\n",
              "              title=\"Convert this dataframe to an interactive table.\"\n",
              "              style=\"display:none;\">\n",
              "        \n",
              "  <svg xmlns=\"http://www.w3.org/2000/svg\" height=\"24px\"viewBox=\"0 0 24 24\"\n",
              "       width=\"24px\">\n",
              "    <path d=\"M0 0h24v24H0V0z\" fill=\"none\"/>\n",
              "    <path d=\"M18.56 5.44l.94 2.06.94-2.06 2.06-.94-2.06-.94-.94-2.06-.94 2.06-2.06.94zm-11 1L8.5 8.5l.94-2.06 2.06-.94-2.06-.94L8.5 2.5l-.94 2.06-2.06.94zm10 10l.94 2.06.94-2.06 2.06-.94-2.06-.94-.94-2.06-.94 2.06-2.06.94z\"/><path d=\"M17.41 7.96l-1.37-1.37c-.4-.4-.92-.59-1.43-.59-.52 0-1.04.2-1.43.59L10.3 9.45l-7.72 7.72c-.78.78-.78 2.05 0 2.83L4 21.41c.39.39.9.59 1.41.59.51 0 1.02-.2 1.41-.59l7.78-7.78 2.81-2.81c.8-.78.8-2.07 0-2.86zM5.41 20L4 18.59l7.72-7.72 1.47 1.35L5.41 20z\"/>\n",
              "  </svg>\n",
              "      </button>\n",
              "      \n",
              "  <style>\n",
              "    .colab-df-container {\n",
              "      display:flex;\n",
              "      flex-wrap:wrap;\n",
              "      gap: 12px;\n",
              "    }\n",
              "\n",
              "    .colab-df-convert {\n",
              "      background-color: #E8F0FE;\n",
              "      border: none;\n",
              "      border-radius: 50%;\n",
              "      cursor: pointer;\n",
              "      display: none;\n",
              "      fill: #1967D2;\n",
              "      height: 32px;\n",
              "      padding: 0 0 0 0;\n",
              "      width: 32px;\n",
              "    }\n",
              "\n",
              "    .colab-df-convert:hover {\n",
              "      background-color: #E2EBFA;\n",
              "      box-shadow: 0px 1px 2px rgba(60, 64, 67, 0.3), 0px 1px 3px 1px rgba(60, 64, 67, 0.15);\n",
              "      fill: #174EA6;\n",
              "    }\n",
              "\n",
              "    [theme=dark] .colab-df-convert {\n",
              "      background-color: #3B4455;\n",
              "      fill: #D2E3FC;\n",
              "    }\n",
              "\n",
              "    [theme=dark] .colab-df-convert:hover {\n",
              "      background-color: #434B5C;\n",
              "      box-shadow: 0px 1px 3px 1px rgba(0, 0, 0, 0.15);\n",
              "      filter: drop-shadow(0px 1px 2px rgba(0, 0, 0, 0.3));\n",
              "      fill: #FFFFFF;\n",
              "    }\n",
              "  </style>\n",
              "\n",
              "      <script>\n",
              "        const buttonEl =\n",
              "          document.querySelector('#df-5a996f16-4506-406f-8161-0409fe831cb7 button.colab-df-convert');\n",
              "        buttonEl.style.display =\n",
              "          google.colab.kernel.accessAllowed ? 'block' : 'none';\n",
              "\n",
              "        async function convertToInteractive(key) {\n",
              "          const element = document.querySelector('#df-5a996f16-4506-406f-8161-0409fe831cb7');\n",
              "          const dataTable =\n",
              "            await google.colab.kernel.invokeFunction('convertToInteractive',\n",
              "                                                     [key], {});\n",
              "          if (!dataTable) return;\n",
              "\n",
              "          const docLinkHtml = 'Like what you see? Visit the ' +\n",
              "            '<a target=\"_blank\" href=https://colab.research.google.com/notebooks/data_table.ipynb>data table notebook</a>'\n",
              "            + ' to learn more about interactive tables.';\n",
              "          element.innerHTML = '';\n",
              "          dataTable['output_type'] = 'display_data';\n",
              "          await google.colab.output.renderOutput(dataTable, element);\n",
              "          const docLink = document.createElement('div');\n",
              "          docLink.innerHTML = docLinkHtml;\n",
              "          element.appendChild(docLink);\n",
              "        }\n",
              "      </script>\n",
              "    </div>\n",
              "  </div>\n",
              "  "
            ]
          },
          "metadata": {},
          "execution_count": 19
        }
      ]
    },
    {
      "cell_type": "code",
      "source": [
        "y_test"
      ],
      "metadata": {
        "colab": {
          "base_uri": "https://localhost:8080/"
        },
        "id": "gyKeh4rDUBDt",
        "outputId": "ec7ab4dc-2cf3-4819-ee83-3349f8eb28f3"
      },
      "execution_count": null,
      "outputs": [
        {
          "output_type": "execute_result",
          "data": {
            "text/plain": [
              "71     1\n",
              "59     1\n",
              "39     1\n",
              "10     1\n",
              "83     1\n",
              "23     1\n",
              "57     0\n",
              "42     0\n",
              "56     1\n",
              "74     1\n",
              "28     0\n",
              "35     1\n",
              "17     1\n",
              "79     1\n",
              "63     1\n",
              "6      1\n",
              "114    1\n",
              "91     1\n",
              "98     1\n",
              "88     1\n",
              "20     0\n",
              "49     1\n",
              "43     0\n",
              "66     1\n",
              "37     1\n",
              "48     0\n",
              "97     1\n",
              "116    1\n",
              "81     1\n",
              "46     1\n",
              "Name: Placed, dtype: int64"
            ]
          },
          "metadata": {},
          "execution_count": 20
        }
      ]
    },
    {
      "cell_type": "code",
      "source": [
        "from sklearn.preprocessing import StandardScaler\n",
        "sc = StandardScaler()\n",
        "X_train = sc.fit_transform(X_train)\n",
        "X_test = sc.transform (X_test)\n",
        "print(np.mean(X_train))\n",
        "print(np.std(X_train))"
      ],
      "metadata": {
        "colab": {
          "base_uri": "https://localhost:8080/"
        },
        "id": "aLrQ2RwVUFkD",
        "outputId": "e473fe86-324e-41dd-94e8-1384e518f037"
      },
      "execution_count": null,
      "outputs": [
        {
          "output_type": "stream",
          "name": "stdout",
          "text": [
            "2.650813401492649e-16\n",
            "1.0\n"
          ]
        }
      ]
    },
    {
      "cell_type": "markdown",
      "source": [
        "# Logistic Regression"
      ],
      "metadata": {
        "id": "v_Pdk3iyURzC"
      }
    },
    {
      "cell_type": "code",
      "source": [
        "from sklearn.linear_model import LogisticRegression\n",
        "log_reg = LogisticRegression(random_state=42).fit(X_train, y_train)\n",
        "y_pred = log_reg.predict(X_test)"
      ],
      "metadata": {
        "id": "vvo0cx5LUKle"
      },
      "execution_count": null,
      "outputs": []
    },
    {
      "cell_type": "code",
      "source": [
        "from sklearn.metrics import confusion_matrix\n",
        "cm = confusion_matrix(y_test, y_pred)\n",
        "print('Confusion matrix: ')\n",
        "print(cm)"
      ],
      "metadata": {
        "colab": {
          "base_uri": "https://localhost:8080/"
        },
        "id": "6dG7EjXAUWB8",
        "outputId": "d256909e-7ccc-46c2-fe36-65e1798638c6"
      },
      "execution_count": null,
      "outputs": [
        {
          "output_type": "stream",
          "name": "stdout",
          "text": [
            "Confusion matrix: \n",
            "[[ 5  1]\n",
            " [ 2 22]]\n"
          ]
        }
      ]
    },
    {
      "cell_type": "code",
      "source": [
        "from sklearn.metrics import accuracy_score\n",
        "print('Accuracy: %.3f' % (accuracy_score(y_test, y_pred)*100))\n",
        "from sklearn.metrics import precision_score\n",
        "from sklearn.metrics import recall_score\n",
        "from sklearn.metrics import f1_score\n",
        "precision = precision_score(y_test, y_pred, average='binary')\n",
        "print('Precision: %.3f' % (precision*100))\n",
        "recall = recall_score(y_test, y_pred, average='binary')\n",
        "print('Recall: %.3f' % (recall*100))\n",
        "score = f1_score(y_test, y_pred, average='binary')\n",
        "print('F-Measure: %.3f' % (score*100))"
      ],
      "metadata": {
        "colab": {
          "base_uri": "https://localhost:8080/"
        },
        "id": "J-zYwiKjUZj1",
        "outputId": "2770ccf9-5bf6-4323-b7a3-5c10a35fbfd5"
      },
      "execution_count": null,
      "outputs": [
        {
          "output_type": "stream",
          "name": "stdout",
          "text": [
            "Accuracy: 90.000\n",
            "Precision: 95.652\n",
            "Recall: 91.667\n",
            "F-Measure: 93.617\n"
          ]
        }
      ]
    },
    {
      "cell_type": "code",
      "source": [
        "score = log_reg.score(X_test, y_test)\n",
        "print(score)"
      ],
      "metadata": {
        "colab": {
          "base_uri": "https://localhost:8080/"
        },
        "id": "OZUlvuAJUdhL",
        "outputId": "52f48860-154a-42d6-f2cc-146e1f72ab92"
      },
      "execution_count": null,
      "outputs": [
        {
          "output_type": "stream",
          "name": "stdout",
          "text": [
            "0.9\n"
          ]
        }
      ]
    },
    {
      "cell_type": "code",
      "source": [
        "Tenth = 63.5 #@param {type:\"number\"}\n",
        "Twelth = 59.6 #@param {type:\"number\"}\n",
        "BTech = 59.9 #@param {type:\"number\"}\n",
        "SeventhSEM\t= 50.74 #@param {type:\"number\"}\n",
        "SixthSEM = 36.22 #@param {type:\"number\"}\n",
        "FifthSEM = 4.94 #@param {type:\"number\"}\n",
        "Final = 43.66 #@param {type:\"number\"}\n",
        "Medium =  1#@param {type:\"number\"}\n",
        "output=log_reg.predict(sc.transform([[Tenth,Twelth,BTech,SeventhSEM,SixthSEM,FifthSEM,Final,Medium]]))\n",
        "print(\"Purchased =\", output)\n",
        "if output==[1]:\n",
        "  print( 'Student is Placed')\n",
        "else:\n",
        "  print('Student is not Placed')"
      ],
      "metadata": {
        "colab": {
          "base_uri": "https://localhost:8080/"
        },
        "id": "JzyVl6SfUhFr",
        "outputId": "d1e4d52a-94cb-4910-e055-4605c0ee3e15"
      },
      "execution_count": null,
      "outputs": [
        {
          "output_type": "stream",
          "name": "stdout",
          "text": [
            "Purchased = [0]\n",
            "Student is not Placed\n"
          ]
        },
        {
          "output_type": "stream",
          "name": "stderr",
          "text": [
            "/usr/local/lib/python3.7/dist-packages/sklearn/base.py:451: UserWarning: X does not have valid feature names, but StandardScaler was fitted with feature names\n",
            "  \"X does not have valid feature names, but\"\n"
          ]
        }
      ]
    },
    {
      "cell_type": "code",
      "source": [
        "import pickle \n",
        "print(\"[INFO] Saving model...\")\n",
        "saved_model0=pickle.dump(log_reg,open('/content/drive/My Drive/Colab Notebooks/Logistic-modelproject-6.pkl', 'wb'))"
      ],
      "metadata": {
        "colab": {
          "base_uri": "https://localhost:8080/"
        },
        "id": "ZpfVugvqUm77",
        "outputId": "e02dd8d7-bb18-4f87-ab9d-4f679d821fb0"
      },
      "execution_count": null,
      "outputs": [
        {
          "output_type": "stream",
          "name": "stdout",
          "text": [
            "[INFO] Saving model...\n"
          ]
        }
      ]
    },
    {
      "cell_type": "code",
      "source": [
        "model0 = pickle.load(open('/content/drive/My Drive/Colab Notebooks/Logistic-modelproject-6.pkl','rb'))\n",
        "model0.predict(X_test)"
      ],
      "metadata": {
        "colab": {
          "base_uri": "https://localhost:8080/"
        },
        "id": "B-9ysYPCU-j2",
        "outputId": "9199ba6c-7270-4a9d-dda5-e0b86ca4057b"
      },
      "execution_count": null,
      "outputs": [
        {
          "output_type": "execute_result",
          "data": {
            "text/plain": [
              "array([1, 1, 1, 1, 1, 0, 0, 0, 1, 0, 0, 1, 1, 1, 1, 1, 1, 1, 1, 1, 1, 1,\n",
              "       0, 1, 1, 0, 1, 1, 1, 1])"
            ]
          },
          "metadata": {},
          "execution_count": 28
        }
      ]
    },
    {
      "cell_type": "markdown",
      "source": [
        "# Naive Bayes Algorithm"
      ],
      "metadata": {
        "id": "sBZRFoAEVdFb"
      }
    },
    {
      "cell_type": "code",
      "source": [
        "from sklearn.naive_bayes import GaussianNB\n",
        "classifier = GaussianNB()\n",
        "classifier.fit(X_train, y_train)"
      ],
      "metadata": {
        "colab": {
          "base_uri": "https://localhost:8080/"
        },
        "id": "t78SSBKsVUTs",
        "outputId": "456e9064-25e6-4c58-873a-756289f287a2"
      },
      "execution_count": null,
      "outputs": [
        {
          "output_type": "execute_result",
          "data": {
            "text/plain": [
              "GaussianNB()"
            ]
          },
          "metadata": {},
          "execution_count": 29
        }
      ]
    },
    {
      "cell_type": "code",
      "source": [
        "y_pred = classifier.predict(X_test)"
      ],
      "metadata": {
        "id": "N7krYWEqVZ3v"
      },
      "execution_count": null,
      "outputs": []
    },
    {
      "cell_type": "code",
      "source": [
        "y_pred"
      ],
      "metadata": {
        "colab": {
          "base_uri": "https://localhost:8080/"
        },
        "id": "xeu8VS2aVkq4",
        "outputId": "cba5a81f-c5b1-4c79-fba3-ee2dc04ec948"
      },
      "execution_count": null,
      "outputs": [
        {
          "output_type": "execute_result",
          "data": {
            "text/plain": [
              "array([1, 1, 1, 1, 0, 0, 0, 0, 1, 0, 0, 1, 1, 0, 1, 1, 0, 1, 1, 1, 0, 1,\n",
              "       0, 1, 1, 0, 1, 1, 1, 1])"
            ]
          },
          "metadata": {},
          "execution_count": 31
        }
      ]
    },
    {
      "cell_type": "code",
      "source": [
        "from sklearn.metrics import confusion_matrix\n",
        "cm = confusion_matrix(y_test, y_pred)\n",
        "print('Confusion matrix: ')\n",
        "print(cm)"
      ],
      "metadata": {
        "colab": {
          "base_uri": "https://localhost:8080/"
        },
        "id": "nhoDq5_KVnmT",
        "outputId": "cb57a489-0e91-42ac-bad9-317a335fa1e5"
      },
      "execution_count": null,
      "outputs": [
        {
          "output_type": "stream",
          "name": "stdout",
          "text": [
            "Confusion matrix: \n",
            "[[ 6  0]\n",
            " [ 5 19]]\n"
          ]
        }
      ]
    },
    {
      "cell_type": "code",
      "source": [
        "from sklearn.metrics import accuracy_score\n",
        "print('Accuracy: %.2f' % (accuracy_score(y_test, y_pred)*100))\n",
        "from sklearn.metrics import precision_score\n",
        "from sklearn.metrics import recall_score\n",
        "from sklearn.metrics import f1_score\n",
        "precision = precision_score(y_test, y_pred, average='binary')\n",
        "print('Precision: %.3f' % (precision*100))\n",
        "from sklearn.metrics import f1_score\n",
        "score = f1_score(y_test, y_pred, average='binary')\n",
        "print('F-Measure: %.3f' % (score*100))\n",
        "recall = recall_score(y_test, y_pred, average='binary')\n",
        "print('Recall: %.3f' % (recall*100))"
      ],
      "metadata": {
        "colab": {
          "base_uri": "https://localhost:8080/"
        },
        "id": "Iay8qmnnVqbR",
        "outputId": "3ed736f3-6abf-442e-ebef-e1acf870278d"
      },
      "execution_count": null,
      "outputs": [
        {
          "output_type": "stream",
          "name": "stdout",
          "text": [
            "Accuracy: 83.33\n",
            "Precision: 100.000\n",
            "F-Measure: 88.372\n",
            "Recall: 79.167\n"
          ]
        }
      ]
    },
    {
      "cell_type": "code",
      "source": [
        "Tenth = 63.5 #@param {type:\"number\"}\n",
        "Twelth = 59.6 #@param {type:\"number\"}\n",
        "BTech = 59.9 #@param {type:\"number\"}\n",
        "SeventhSEM\t= 50.74 #@param {type:\"number\"}\n",
        "SixthSEM = 36.22 #@param {type:\"number\"}\n",
        "FifthSEM = 4.94 #@param {type:\"number\"}\n",
        "Final = 43.66 #@param {type:\"number\"}\n",
        "Medium =  1#@param {type:\"number\"}\n",
        "output=classifier.predict(sc.transform([[Tenth,Twelth,BTech,SeventhSEM,SixthSEM,FifthSEM,Final,Medium]]))\n",
        "print(\"Purchased =\", output)\n",
        "if output==[1]:\n",
        "  print( 'Student is Placed')\n",
        "else:\n",
        "  print('Student is not Placed')"
      ],
      "metadata": {
        "colab": {
          "base_uri": "https://localhost:8080/"
        },
        "id": "P9a2G2FMVt5a",
        "outputId": "f63c7c4e-2258-48d9-ca41-81c4b3f09e00"
      },
      "execution_count": null,
      "outputs": [
        {
          "output_type": "stream",
          "name": "stdout",
          "text": [
            "Purchased = [0]\n",
            "Student is not Placed\n"
          ]
        },
        {
          "output_type": "stream",
          "name": "stderr",
          "text": [
            "/usr/local/lib/python3.7/dist-packages/sklearn/base.py:451: UserWarning: X does not have valid feature names, but StandardScaler was fitted with feature names\n",
            "  \"X does not have valid feature names, but\"\n"
          ]
        }
      ]
    },
    {
      "cell_type": "code",
      "source": [
        "import pickle \n",
        "print(\"[INFO] Saving model...\")\n",
        "saved_model1=pickle.dump(classifier,open('/content/drive/My Drive/Colab Notebooks/Naive_Bayes-modelproject-6.pkl', 'wb'))"
      ],
      "metadata": {
        "colab": {
          "base_uri": "https://localhost:8080/"
        },
        "id": "tBqvkBQuVx3c",
        "outputId": "42246f34-ec6a-4d61-f444-2357b4de841f"
      },
      "execution_count": null,
      "outputs": [
        {
          "output_type": "stream",
          "name": "stdout",
          "text": [
            "[INFO] Saving model...\n"
          ]
        }
      ]
    },
    {
      "cell_type": "code",
      "source": [
        "model1 = pickle.load(open('/content/drive/My Drive/Colab Notebooks/Naive_Bayes-modelproject-6.pkl','rb'))\n",
        "model1.predict(X_test)"
      ],
      "metadata": {
        "colab": {
          "base_uri": "https://localhost:8080/"
        },
        "id": "uUNYyatmV-rq",
        "outputId": "dddd3a63-e6ad-4050-d81d-8efa860030df"
      },
      "execution_count": null,
      "outputs": [
        {
          "output_type": "execute_result",
          "data": {
            "text/plain": [
              "array([1, 1, 1, 1, 0, 0, 0, 0, 1, 0, 0, 1, 1, 0, 1, 1, 0, 1, 1, 1, 0, 1,\n",
              "       0, 1, 1, 0, 1, 1, 1, 1])"
            ]
          },
          "metadata": {},
          "execution_count": 36
        }
      ]
    },
    {
      "cell_type": "markdown",
      "source": [
        "# SVM Algorithm"
      ],
      "metadata": {
        "id": "KcokE59CWLcM"
      }
    },
    {
      "cell_type": "code",
      "source": [
        "from sklearn.svm import SVC\n",
        "classifier = SVC(kernel = 'rbf', random_state = 5, probability=True)\n",
        "classifier.fit(X_train, y_train)"
      ],
      "metadata": {
        "colab": {
          "base_uri": "https://localhost:8080/"
        },
        "id": "8HEBRD3FWG2Z",
        "outputId": "30dbde56-6bad-4dcc-b3ea-345256c3ec1e"
      },
      "execution_count": null,
      "outputs": [
        {
          "output_type": "execute_result",
          "data": {
            "text/plain": [
              "SVC(probability=True, random_state=5)"
            ]
          },
          "metadata": {},
          "execution_count": 37
        }
      ]
    },
    {
      "cell_type": "code",
      "source": [
        "y_pred = classifier.predict(X_test)"
      ],
      "metadata": {
        "id": "9aDYT6goWSz5"
      },
      "execution_count": null,
      "outputs": []
    },
    {
      "cell_type": "code",
      "source": [
        "y_pred"
      ],
      "metadata": {
        "colab": {
          "base_uri": "https://localhost:8080/"
        },
        "id": "YJcVUcWsWWGj",
        "outputId": "f29593e3-6768-4ba2-a79f-5af3d63c08ad"
      },
      "execution_count": null,
      "outputs": [
        {
          "output_type": "execute_result",
          "data": {
            "text/plain": [
              "array([1, 1, 1, 1, 0, 0, 0, 0, 1, 0, 0, 1, 1, 0, 1, 1, 1, 1, 1, 1, 0, 1,\n",
              "       0, 1, 1, 0, 1, 1, 1, 1])"
            ]
          },
          "metadata": {},
          "execution_count": 39
        }
      ]
    },
    {
      "cell_type": "code",
      "source": [
        "from sklearn.metrics import confusion_matrix\n",
        "cm = confusion_matrix(y_test, y_pred)\n",
        "print('Confusion matrix: ')\n",
        "print(cm)"
      ],
      "metadata": {
        "colab": {
          "base_uri": "https://localhost:8080/"
        },
        "id": "8N6_bLaGWZoo",
        "outputId": "9d96d2a7-3f20-43f5-9f0f-57448aa041c1"
      },
      "execution_count": null,
      "outputs": [
        {
          "output_type": "stream",
          "name": "stdout",
          "text": [
            "Confusion matrix: \n",
            "[[ 6  0]\n",
            " [ 4 20]]\n"
          ]
        }
      ]
    },
    {
      "cell_type": "code",
      "source": [
        "from sklearn.metrics import accuracy_score\n",
        "print('Accuracy: %.2f' % (accuracy_score(y_test, y_pred)*100))\n",
        "from sklearn.metrics import precision_score\n",
        "from sklearn.metrics import recall_score\n",
        "from sklearn.metrics import f1_score\n",
        "precision = precision_score(y_test, y_pred, average='binary')\n",
        "print('Precision: %.2f' % (precision*100))\n",
        "recall = recall_score(y_test, y_pred, average='binary')\n",
        "print('Recall: %.3f' % (recall*100))\n",
        "score = f1_score(y_test, y_pred, average='binary')\n",
        "print('F-Measure: %.3f' % (score*100))"
      ],
      "metadata": {
        "colab": {
          "base_uri": "https://localhost:8080/"
        },
        "id": "7KHTSF7QWiB7",
        "outputId": "5e2e2740-3c0b-4bc2-968e-d61a4e9b1d04"
      },
      "execution_count": null,
      "outputs": [
        {
          "output_type": "stream",
          "name": "stdout",
          "text": [
            "Accuracy: 86.67\n",
            "Precision: 100.00\n",
            "Recall: 83.333\n",
            "F-Measure: 90.909\n"
          ]
        }
      ]
    },
    {
      "cell_type": "code",
      "source": [
        "Tenth = 77.90 #@param {type:\"number\"}\n",
        "Twelth = 58.4 #@param {type:\"number\"}\n",
        "BTech = 61.45 #@param {type:\"number\"}\n",
        "SeventhSEM\t= 72.48 #@param {type:\"number\"}\n",
        "SixthSEM = 45.71 #@param {type:\"number\"}\n",
        "FifthSEM = 21.76 #@param {type:\"number\"}\n",
        "Final = 62.91 #@param {type:\"number\"}\n",
        "Medium =  1#@param {type:\"number\"}\n",
        "output=classifier.predict(sc.transform([[Tenth,Twelth,BTech,SeventhSEM,SixthSEM,FifthSEM,Final,Medium]]))\n",
        "print(\"Purchased =\", output)\n",
        "if output==[1]:\n",
        "  print( 'Student is Placed')\n",
        "else:\n",
        "  print('Student is not Placed')"
      ],
      "metadata": {
        "colab": {
          "base_uri": "https://localhost:8080/"
        },
        "id": "wDQnVLtQWl1l",
        "outputId": "da88f857-e1b3-4d9e-de87-63eeece84f5c"
      },
      "execution_count": null,
      "outputs": [
        {
          "output_type": "stream",
          "name": "stdout",
          "text": [
            "Purchased = [1]\n",
            "Student is Placed\n"
          ]
        },
        {
          "output_type": "stream",
          "name": "stderr",
          "text": [
            "/usr/local/lib/python3.7/dist-packages/sklearn/base.py:451: UserWarning: X does not have valid feature names, but StandardScaler was fitted with feature names\n",
            "  \"X does not have valid feature names, but\"\n"
          ]
        }
      ]
    },
    {
      "cell_type": "code",
      "source": [
        "import pickle \n",
        "print(\"[INFO] Saving model...\")\n",
        "saved_model2=pickle.dump(classifier,open('/content/drive/My Drive/Colab Notebooks/SVM-modelproject-6.pkl', 'wb'))"
      ],
      "metadata": {
        "colab": {
          "base_uri": "https://localhost:8080/"
        },
        "id": "FA-ACzkrWrL_",
        "outputId": "d4a07d0e-2868-4cf4-e593-87da34a5f2ef"
      },
      "execution_count": null,
      "outputs": [
        {
          "output_type": "stream",
          "name": "stdout",
          "text": [
            "[INFO] Saving model...\n"
          ]
        }
      ]
    },
    {
      "cell_type": "code",
      "source": [
        "model2 = pickle.load(open('/content/drive/My Drive/Colab Notebooks/SVM-modelproject-6.pkl','rb'))\n",
        "model2.predict(X_test)"
      ],
      "metadata": {
        "colab": {
          "base_uri": "https://localhost:8080/"
        },
        "id": "cDyt6rG6Wy54",
        "outputId": "2082c760-f1bd-48dc-a776-115aa78960d6"
      },
      "execution_count": null,
      "outputs": [
        {
          "output_type": "execute_result",
          "data": {
            "text/plain": [
              "array([1, 1, 1, 1, 0, 0, 0, 0, 1, 0, 0, 1, 1, 0, 1, 1, 1, 1, 1, 1, 0, 1,\n",
              "       0, 1, 1, 0, 1, 1, 1, 1])"
            ]
          },
          "metadata": {},
          "execution_count": 44
        }
      ]
    },
    {
      "cell_type": "markdown",
      "source": [
        "# Random Forest Algorithm"
      ],
      "metadata": {
        "id": "wdd40EuuXD7C"
      }
    },
    {
      "cell_type": "code",
      "source": [
        "from sklearn.ensemble import RandomForestClassifier\n",
        "classifier_Random = RandomForestClassifier(n_estimators = 300, criterion = 'entropy', random_state = 5)\n",
        "classifier_Random.fit(X_train, y_train)"
      ],
      "metadata": {
        "colab": {
          "base_uri": "https://localhost:8080/"
        },
        "id": "hbwV6jaIW8EH",
        "outputId": "d77cc38a-a4f8-4022-e27f-881a05e0f2b5"
      },
      "execution_count": null,
      "outputs": [
        {
          "output_type": "execute_result",
          "data": {
            "text/plain": [
              "RandomForestClassifier(criterion='entropy', n_estimators=300, random_state=5)"
            ]
          },
          "metadata": {},
          "execution_count": 45
        }
      ]
    },
    {
      "cell_type": "code",
      "source": [
        "y_pred = classifier_Random.predict(X_test)"
      ],
      "metadata": {
        "id": "KdBtOQGGXHWO"
      },
      "execution_count": null,
      "outputs": []
    },
    {
      "cell_type": "code",
      "source": [
        "y_pred"
      ],
      "metadata": {
        "colab": {
          "base_uri": "https://localhost:8080/"
        },
        "id": "e01zbIRgXKSD",
        "outputId": "6018330b-d665-48f3-e6f7-d4d2e73a4028"
      },
      "execution_count": null,
      "outputs": [
        {
          "output_type": "execute_result",
          "data": {
            "text/plain": [
              "array([0, 1, 1, 1, 0, 0, 0, 0, 1, 0, 0, 1, 1, 1, 0, 1, 1, 1, 1, 1, 0, 1,\n",
              "       0, 1, 1, 0, 1, 1, 1, 1])"
            ]
          },
          "metadata": {},
          "execution_count": 47
        }
      ]
    },
    {
      "cell_type": "code",
      "source": [
        "from sklearn.metrics import confusion_matrix\n",
        "cm = confusion_matrix(y_test, y_pred)\n",
        "print('Confusion matrix: ')\n",
        "print(cm)"
      ],
      "metadata": {
        "colab": {
          "base_uri": "https://localhost:8080/"
        },
        "id": "yov8dBzVXMxy",
        "outputId": "c107ce39-feeb-4298-8b55-d128e57ec35a"
      },
      "execution_count": null,
      "outputs": [
        {
          "output_type": "stream",
          "name": "stdout",
          "text": [
            "Confusion matrix: \n",
            "[[ 6  0]\n",
            " [ 5 19]]\n"
          ]
        }
      ]
    },
    {
      "cell_type": "code",
      "source": [
        "from sklearn.metrics import accuracy_score\n",
        "print('Accuracy: %.2f' % (accuracy_score(y_test, y_pred)*100))\n",
        "from sklearn.metrics import precision_score\n",
        "from sklearn.metrics import recall_score\n",
        "from sklearn.metrics import f1_score\n",
        "precision = precision_score(y_test, y_pred, average='binary')\n",
        "print('Precision: %.2f' % (precision*100))\n",
        "recall = recall_score(y_test, y_pred, average='binary')\n",
        "print('Recall: %.3f' % (recall*100))\n",
        "score = f1_score(y_test, y_pred, average='binary')\n",
        "print('F-Measure: %.3f' % (score*100))"
      ],
      "metadata": {
        "colab": {
          "base_uri": "https://localhost:8080/"
        },
        "id": "4zmhPX44XQg8",
        "outputId": "3d97ca87-ce4f-4fd5-f2d3-e933a590b5a2"
      },
      "execution_count": null,
      "outputs": [
        {
          "output_type": "stream",
          "name": "stdout",
          "text": [
            "Accuracy: 83.33\n",
            "Precision: 100.00\n",
            "Recall: 79.167\n",
            "F-Measure: 88.372\n"
          ]
        }
      ]
    },
    {
      "cell_type": "code",
      "source": [
        "Tenth = 77.90 #@param {type:\"number\"}\n",
        "Twelth = 58.4 #@param {type:\"number\"}\n",
        "BTech = 61.45 #@param {type:\"number\"}\n",
        "SeventhSEM\t= 72.48 #@param {type:\"number\"}\n",
        "SixthSEM = 45.71 #@param {type:\"number\"}\n",
        "FifthSEM = 21.76 #@param {type:\"number\"}\n",
        "Final = 62.91 #@param {type:\"number\"}\n",
        "Medium =  1#@param {type:\"number\"}\n",
        "output=classifier_Random.predict(sc.transform([[Tenth,Twelth,BTech,SeventhSEM,SixthSEM,FifthSEM,Final,Medium]]))\n",
        "print(\"Purchased =\", output)\n",
        "if output==[1]:\n",
        "  print( 'Student is Placed')\n",
        "else:\n",
        "  print('Student is not Placed')"
      ],
      "metadata": {
        "colab": {
          "base_uri": "https://localhost:8080/"
        },
        "id": "g83E6LsaXVnx",
        "outputId": "2440e2eb-cb2d-46b1-bdba-6b2e27280b59"
      },
      "execution_count": null,
      "outputs": [
        {
          "output_type": "stream",
          "name": "stdout",
          "text": [
            "Purchased = [0]\n",
            "Student is not Placed\n"
          ]
        },
        {
          "output_type": "stream",
          "name": "stderr",
          "text": [
            "/usr/local/lib/python3.7/dist-packages/sklearn/base.py:451: UserWarning: X does not have valid feature names, but StandardScaler was fitted with feature names\n",
            "  \"X does not have valid feature names, but\"\n"
          ]
        }
      ]
    },
    {
      "cell_type": "code",
      "source": [
        "import pickle \n",
        "print(\"[INFO] Saving model...\")\n",
        "saved_model3=pickle.dump(classifier_Random,open('/content/drive/My Drive/Colab Notebooks/Random_Forest-modelproject-6.pkl', 'wb'))"
      ],
      "metadata": {
        "colab": {
          "base_uri": "https://localhost:8080/"
        },
        "id": "rJVngMAbXfS7",
        "outputId": "5d1643e0-8868-48a1-a0f0-aebf5cfed3ac"
      },
      "execution_count": null,
      "outputs": [
        {
          "output_type": "stream",
          "name": "stdout",
          "text": [
            "[INFO] Saving model...\n"
          ]
        }
      ]
    },
    {
      "cell_type": "code",
      "source": [
        "model3 = pickle.load(open('/content/drive/My Drive/Colab Notebooks/Random_Forest-modelproject-6.pkl','rb'))\n",
        "model3.predict(X_test)"
      ],
      "metadata": {
        "colab": {
          "base_uri": "https://localhost:8080/"
        },
        "id": "Ykp2fHpDX17Q",
        "outputId": "eb3a8e3d-b0f7-475c-c8b8-46141d34ee51"
      },
      "execution_count": null,
      "outputs": [
        {
          "output_type": "execute_result",
          "data": {
            "text/plain": [
              "array([0, 1, 1, 1, 0, 0, 0, 0, 1, 0, 0, 1, 1, 1, 0, 1, 1, 1, 1, 1, 0, 1,\n",
              "       0, 1, 1, 0, 1, 1, 1, 1])"
            ]
          },
          "metadata": {},
          "execution_count": 52
        }
      ]
    },
    {
      "cell_type": "markdown",
      "source": [
        "# Decision Tree Algorithm"
      ],
      "metadata": {
        "id": "BFpxIUNlYKOo"
      }
    },
    {
      "cell_type": "code",
      "source": [
        "from sklearn.tree import DecisionTreeClassifier\n",
        "classifier = DecisionTreeClassifier(criterion = 'entropy', random_state = 5)\n",
        "classifier.fit(X_train, y_train)"
      ],
      "metadata": {
        "colab": {
          "base_uri": "https://localhost:8080/"
        },
        "id": "d12xr_jCX_6z",
        "outputId": "e7026bd0-d99e-47b6-f27d-977fea2fd2ee"
      },
      "execution_count": null,
      "outputs": [
        {
          "output_type": "execute_result",
          "data": {
            "text/plain": [
              "DecisionTreeClassifier(criterion='entropy', random_state=5)"
            ]
          },
          "metadata": {},
          "execution_count": 53
        }
      ]
    },
    {
      "cell_type": "code",
      "source": [
        "y_pred = classifier.predict(X_test)\n",
        "y_pred"
      ],
      "metadata": {
        "colab": {
          "base_uri": "https://localhost:8080/"
        },
        "id": "gE-DdgCaYOUN",
        "outputId": "7262c516-7256-47be-8059-a47b26396ae3"
      },
      "execution_count": null,
      "outputs": [
        {
          "output_type": "execute_result",
          "data": {
            "text/plain": [
              "array([1, 1, 1, 1, 1, 0, 1, 1, 1, 0, 1, 1, 0, 1, 1, 1, 1, 1, 1, 1, 1, 1,\n",
              "       0, 1, 1, 0, 1, 1, 1, 1])"
            ]
          },
          "metadata": {},
          "execution_count": 54
        }
      ]
    },
    {
      "cell_type": "code",
      "source": [
        "from sklearn.metrics import confusion_matrix\n",
        "cm = confusion_matrix(y_test, y_pred)\n",
        "print('Confusion matrix: ')\n",
        "print(cm)"
      ],
      "metadata": {
        "colab": {
          "base_uri": "https://localhost:8080/"
        },
        "id": "B31yK6rhYQ1N",
        "outputId": "6ca683a8-c21b-41fc-b5e2-7be35ad5c7cb"
      },
      "execution_count": null,
      "outputs": [
        {
          "output_type": "stream",
          "name": "stdout",
          "text": [
            "Confusion matrix: \n",
            "[[ 2  4]\n",
            " [ 3 21]]\n"
          ]
        }
      ]
    },
    {
      "cell_type": "code",
      "source": [
        "from sklearn.metrics import accuracy_score\n",
        "print('Accuracy: %.2f' % (accuracy_score(y_test, y_pred)*100))\n",
        "from sklearn.metrics import precision_score\n",
        "from sklearn.metrics import recall_score\n",
        "from sklearn.metrics import f1_score\n",
        "precision = precision_score(y_test, y_pred, average='binary')\n",
        "print('Precision: %.2f' % (precision*100))\n",
        "recall = recall_score(y_test, y_pred, average='binary')\n",
        "print('Recall: %.3f' % (recall*100))\n",
        "score = f1_score(y_test, y_pred, average='binary')\n",
        "print('F-Measure: %.3f' % (score*100))"
      ],
      "metadata": {
        "colab": {
          "base_uri": "https://localhost:8080/"
        },
        "id": "Q8jnhHvDYU5B",
        "outputId": "f6655b92-5d1c-49a8-a688-cb57dbe17845"
      },
      "execution_count": null,
      "outputs": [
        {
          "output_type": "stream",
          "name": "stdout",
          "text": [
            "Accuracy: 76.67\n",
            "Precision: 84.00\n",
            "Recall: 87.500\n",
            "F-Measure: 85.714\n"
          ]
        }
      ]
    },
    {
      "cell_type": "code",
      "source": [
        "Tenth = 77.90 #@param {type:\"number\"}\n",
        "Twelth = 58.4 #@param {type:\"number\"}\n",
        "BTech = 61.45 #@param {type:\"number\"}\n",
        "SeventhSEM\t= 72.48 #@param {type:\"number\"}\n",
        "SixthSEM = 45.71 #@param {type:\"number\"}\n",
        "FifthSEM = 21.76 #@param {type:\"number\"}\n",
        "Final = 62.91 #@param {type:\"number\"}\n",
        "Medium =  1#@param {type:\"number\"}\n",
        "output=classifier.predict(sc.transform([[Tenth,Twelth,BTech,SeventhSEM,SixthSEM,FifthSEM,Final,Medium]]))\n",
        "print(\"Purchased =\", output)\n",
        "if output==[1]:\n",
        "  print( 'Student is Placed')\n",
        "else:\n",
        "  print('Student is not Placed')"
      ],
      "metadata": {
        "colab": {
          "base_uri": "https://localhost:8080/"
        },
        "id": "CQtqKtixYYTE",
        "outputId": "041b04b4-f461-49c0-b56c-4d35e4f36f27"
      },
      "execution_count": null,
      "outputs": [
        {
          "output_type": "stream",
          "name": "stdout",
          "text": [
            "Purchased = [1]\n",
            "Student is Placed\n"
          ]
        },
        {
          "output_type": "stream",
          "name": "stderr",
          "text": [
            "/usr/local/lib/python3.7/dist-packages/sklearn/base.py:451: UserWarning: X does not have valid feature names, but StandardScaler was fitted with feature names\n",
            "  \"X does not have valid feature names, but\"\n"
          ]
        }
      ]
    },
    {
      "cell_type": "code",
      "source": [
        "import pickle \n",
        "print(\"[INFO] Saving model...\")\n",
        "saved_model4=pickle.dump(classifier,open('/content/drive/My Drive/Colab Notebooks/Decision_Tree-modelproject-6.pkl', 'wb'))"
      ],
      "metadata": {
        "colab": {
          "base_uri": "https://localhost:8080/"
        },
        "id": "zyFu7LrYYl-V",
        "outputId": "8162a7e4-89b8-42b3-bb78-3e9d1529c286"
      },
      "execution_count": null,
      "outputs": [
        {
          "output_type": "stream",
          "name": "stdout",
          "text": [
            "[INFO] Saving model...\n"
          ]
        }
      ]
    },
    {
      "cell_type": "code",
      "source": [
        "model4 = pickle.load(open('/content/drive/My Drive/Colab Notebooks/Decision_Tree-modelproject-6.pkl','rb'))\n",
        "model4.predict(X_test)"
      ],
      "metadata": {
        "colab": {
          "base_uri": "https://localhost:8080/"
        },
        "id": "vJ7dNUwqYu3e",
        "outputId": "a875ebc7-c4b0-4af8-9420-016bcdd3c286"
      },
      "execution_count": null,
      "outputs": [
        {
          "output_type": "execute_result",
          "data": {
            "text/plain": [
              "array([1, 1, 1, 1, 1, 0, 1, 1, 1, 0, 1, 1, 0, 1, 1, 1, 1, 1, 1, 1, 1, 1,\n",
              "       0, 1, 1, 0, 1, 1, 1, 1])"
            ]
          },
          "metadata": {},
          "execution_count": 59
        }
      ]
    },
    {
      "cell_type": "markdown",
      "source": [
        "# KNN Algorithm"
      ],
      "metadata": {
        "id": "aPh5dSKOY_Zc"
      }
    },
    {
      "cell_type": "code",
      "source": [
        "from sklearn.preprocessing import MinMaxScaler\n",
        "sc = MinMaxScaler()\n",
        "X_train = sc.fit_transform(X_train)\n",
        "X_test = sc.transform(X_test)"
      ],
      "metadata": {
        "id": "0Z_RfPrkY3fV"
      },
      "execution_count": null,
      "outputs": []
    },
    {
      "cell_type": "code",
      "source": [
        "from sklearn.neighbors import KNeighborsClassifier\n",
        "classifier =  KNeighborsClassifier(n_neighbors = 15, metric = 'minkowski', p = 2)\n",
        "classifier.fit(X_train, y_train)"
      ],
      "metadata": {
        "colab": {
          "base_uri": "https://localhost:8080/"
        },
        "id": "_i_Tk4DpZHKI",
        "outputId": "0c337549-eed4-4672-bff4-f47b008bfd61"
      },
      "execution_count": null,
      "outputs": [
        {
          "output_type": "execute_result",
          "data": {
            "text/plain": [
              "KNeighborsClassifier(n_neighbors=15)"
            ]
          },
          "metadata": {},
          "execution_count": 61
        }
      ]
    },
    {
      "cell_type": "code",
      "source": [
        "y_pred = classifier.predict(X_test)\n",
        "y_pred"
      ],
      "metadata": {
        "colab": {
          "base_uri": "https://localhost:8080/"
        },
        "id": "H-Acygt6ZMGR",
        "outputId": "5276c548-622d-4715-bf6e-35b6d000e5e3"
      },
      "execution_count": null,
      "outputs": [
        {
          "output_type": "execute_result",
          "data": {
            "text/plain": [
              "array([1, 1, 1, 1, 1, 0, 0, 0, 1, 0, 1, 1, 1, 1, 1, 1, 1, 1, 1, 1, 1, 1,\n",
              "       0, 1, 1, 0, 1, 1, 1, 1])"
            ]
          },
          "metadata": {},
          "execution_count": 62
        }
      ]
    },
    {
      "cell_type": "code",
      "source": [
        "from sklearn.metrics import confusion_matrix\n",
        "cm = confusion_matrix(y_test, y_pred)\n",
        "print('Confusion matrix: ')\n",
        "print(cm)"
      ],
      "metadata": {
        "colab": {
          "base_uri": "https://localhost:8080/"
        },
        "id": "R4Hy81kJZPRd",
        "outputId": "a55fac22-1a04-41bf-fefb-b93abda32593"
      },
      "execution_count": null,
      "outputs": [
        {
          "output_type": "stream",
          "name": "stdout",
          "text": [
            "Confusion matrix: \n",
            "[[ 4  2]\n",
            " [ 2 22]]\n"
          ]
        }
      ]
    },
    {
      "cell_type": "code",
      "source": [
        "from sklearn.metrics import accuracy_score\n",
        "print('Accuracy: %.2f' % (accuracy_score(y_test, y_pred)*100))\n",
        "from sklearn.metrics import precision_score\n",
        "from sklearn.metrics import recall_score\n",
        "from sklearn.metrics import f1_score\n",
        "precision = precision_score(y_test, y_pred, average='binary')\n",
        "print('Precision: %.2f' % (precision*100))\n",
        "recall = recall_score(y_test, y_pred, average='binary')\n",
        "print('Recall: %.3f' % (recall*100))\n",
        "score = f1_score(y_test, y_pred, average='binary')\n",
        "print('F-Measure: %.3f' % (score*100))"
      ],
      "metadata": {
        "colab": {
          "base_uri": "https://localhost:8080/"
        },
        "id": "5YwxlEYMZTpV",
        "outputId": "ab5ce28d-33c2-4c24-fb8d-ee9176446474"
      },
      "execution_count": null,
      "outputs": [
        {
          "output_type": "stream",
          "name": "stdout",
          "text": [
            "Accuracy: 86.67\n",
            "Precision: 91.67\n",
            "Recall: 91.667\n",
            "F-Measure: 91.667\n"
          ]
        }
      ]
    },
    {
      "cell_type": "code",
      "source": [
        "Tenth = 77.90 #@param {type:\"number\"}\n",
        "Twelth = 58.4 #@param {type:\"number\"}\n",
        "BTech = 61.45 #@param {type:\"number\"}\n",
        "SeventhSEM\t= 72.48 #@param {type:\"number\"}\n",
        "SixthSEM = 45.71 #@param {type:\"number\"}\n",
        "FifthSEM = 21.76 #@param {type:\"number\"}\n",
        "Final = 62.91 #@param {type:\"number\"}\n",
        "Medium =  1#@param {type:\"number\"}\n",
        "output=classifier.predict(sc.transform([[Tenth,Twelth,BTech,SeventhSEM,SixthSEM,FifthSEM,Final,Medium]]))\n",
        "print(\"Purchased =\", output)\n",
        "if output==[1]:\n",
        "  print( 'Student is Placed')\n",
        "else:\n",
        "  print('Student is not Placed')"
      ],
      "metadata": {
        "colab": {
          "base_uri": "https://localhost:8080/"
        },
        "id": "G8sF9IIuZWtv",
        "outputId": "0360294b-53b9-4245-bc4e-06d0657f7ff3"
      },
      "execution_count": null,
      "outputs": [
        {
          "output_type": "stream",
          "name": "stdout",
          "text": [
            "Purchased = [1]\n",
            "Student is Placed\n"
          ]
        }
      ]
    },
    {
      "cell_type": "code",
      "source": [
        "import pickle \n",
        "print(\"[INFO] Saving model...\")\n",
        "saved_model5=pickle.dump(classifier,open('/content/drive/My Drive/Colab Notebooks/KNN-modelproject-6.pkl', 'wb'))"
      ],
      "metadata": {
        "colab": {
          "base_uri": "https://localhost:8080/"
        },
        "id": "6X1xmaplZc7w",
        "outputId": "09ea036c-8b9a-4c64-9c48-50b882c28469"
      },
      "execution_count": null,
      "outputs": [
        {
          "output_type": "stream",
          "name": "stdout",
          "text": [
            "[INFO] Saving model...\n"
          ]
        }
      ]
    },
    {
      "cell_type": "code",
      "source": [
        "model5 = pickle.load(open('/content/drive/My Drive/Colab Notebooks/KNN-modelproject-6.pkl','rb'))\n",
        "model5.predict(X_test)"
      ],
      "metadata": {
        "colab": {
          "base_uri": "https://localhost:8080/"
        },
        "id": "ITw8AraDZkfa",
        "outputId": "7e7cbbe0-0536-4977-d5b5-1de403d8b687"
      },
      "execution_count": null,
      "outputs": [
        {
          "output_type": "execute_result",
          "data": {
            "text/plain": [
              "array([1, 1, 1, 1, 1, 0, 0, 0, 1, 0, 1, 1, 1, 1, 1, 1, 1, 1, 1, 1, 1, 1,\n",
              "       0, 1, 1, 0, 1, 1, 1, 1])"
            ]
          },
          "metadata": {},
          "execution_count": 67
        }
      ]
    },
    {
      "cell_type": "code",
      "source": [
        "%mkdir templates -p"
      ],
      "metadata": {
        "id": "Eu11LCQTZodI"
      },
      "execution_count": null,
      "outputs": []
    },
    {
      "cell_type": "code",
      "source": [
        "%%writefile templates/index.html\n",
        "<!DOCTYPE html>\n",
        "<html >\n",
        "<!--From https://codepen.io/frytyler/pen/EGdtg-->\n",
        "<head>\n",
        "<title>Machine Learning KNN Deployment</title>\n",
        "<meta charset=\"UTF-8\">\n",
        "<link href='https://fonts.googleapis.com/css?family=Open+Sans+Condensed:300' rel='stylesheet' type='text/css'>\n",
        "<!-- JavaScript Bundle with Popper -->\n",
        "<script src=\"https://cdn.jsdelivr.net/npm/bootstrap@5.2.0/dist/js/bootstrap.bundle.min.js\" integrity=\"sha384-A3rJD856KowSb7dwlZdYEkO39Gagi7vIsF0jrRAoQmDKKtQBHUuLZ9AsSv4jD4Xa\" crossorigin=\"anonymous\"></script>\n",
        "<link href=\"https://cdn.jsdelivr.net/npm/bootstrap@5.0.0-beta1/dist/css/bootstrap.min.css\" rel=\"stylesheet\" integrity=\"sha384-giJF6kkoqNQ00vy+HMDP7azOuL0xtbfIcaT9wjKHr8RbDVddVHyTfAAsrekwKmP1\" crossorigin=\"anonymous\"> \n",
        "<style><!DOCTYPE html>\n",
        "\n",
        "h1 {text-align: center;}\n",
        "h2 {text-align: center;}\n",
        "h3 {text-align: center;}\n",
        "p {text-align: center;}\n",
        "div {text-align: center;}\n",
        "</style>\n",
        "\n",
        "<style>\n",
        ".myDiv {\n",
        "  border: 10px outset lightblue;\n",
        "  background-color: lightblue;    \n",
        "  text-align: center;\n",
        "}\n",
        "\n",
        ".button {\n",
        "  background-color: lightblue;\n",
        "  border: none;\n",
        "  color: white;\n",
        "  padding: 16px 32px;\n",
        "  text-align: center;\n",
        "  text-decoration: none;\n",
        "  display: inline-block;\n",
        "  font-size: 16px;\n",
        "  margin: 4px 2px;\n",
        "  transition-duration: 0.4s;\n",
        "  cursor: pointer;\n",
        "\n",
        "}\n",
        ".button1 {\n",
        "  background-color: white; \n",
        "  color: black; \n",
        "  border: 5px solid darkblue;\n",
        "}\n",
        "\n",
        ".button1:hover {\n",
        "  background-color: #f64949ab;\n",
        "  color: white;\n",
        "}\n",
        "\n",
        ".button2 {\n",
        "  background-color: white; \n",
        "  color: black; \n",
        "  border: 5px solid darkblue;\n",
        "}\n",
        "\n",
        ".button2:hover {\n",
        "  background-color: #37bea5;\n",
        "  color: white;\n",
        "}\n",
        "\n",
        ".button3 {\n",
        "  background-color: white; \n",
        "  color: black; \n",
        "  border: 5px solid darkblue;\n",
        "}\n",
        "\n",
        ".button3:hover {\n",
        "  background-color: #9c0e9d;\n",
        "  color: white;\n",
        "}\n",
        "\n",
        ".button4 {\n",
        "  background-color: white; \n",
        "  color: black; \n",
        "  border: 5px solid darkblue;\n",
        "}\n",
        "\n",
        ".button4:hover {\n",
        "  background-color: #b1c711;\n",
        "  color: white;\n",
        "}\n",
        "\n",
        ".button5 {\n",
        "  background-color: white; \n",
        "  color: black; \n",
        "  border: 5px solid darkblue;\n",
        "}\n",
        "\n",
        ".button5:hover {\n",
        "  background-color: #740821;\n",
        "  color: white;\n",
        "}\n",
        "\n",
        ".button6 {\n",
        "  background-color: white; \n",
        "  color: black; \n",
        "  border: 5px solid darkblue;\n",
        "}\n",
        "\n",
        ".button6:hover {\n",
        "  background-color: #0eab60;\n",
        "  color: white;\n",
        "}\n",
        "</style>\n",
        "</head>\n",
        "\n",
        "<body>\n",
        "      \n",
        "<div class=\"myDiv\" style=\"background-color:grey;\" >\n",
        "           \n",
        "<div class=\"col-md-12\">\n",
        "<center><p style=\"font-size:40px;color:white;margin-top:10px;\">Poornima Institute of Engineering & Technology</p></center> \n",
        "<center><p style=\"font-size:30px;color:white;margin-top:10px;\">Department of Computer Engineering</p></center> \n",
        "<center><p style=\"font-size:25px;color:white;margin-top:10px;\">Summer Internship 2022 on Machine learning and Data Science</p></center> \n",
        "</div>\n",
        "\n",
        "<div class=\"login\">\n",
        "<h2 ><u>Analysis to Predict If a Student Is Placed Or Not</u></h2>\n",
        "<h3><i><u>Developed by Alok Raj</i></u></h3>\n",
        "<!-- Main Input For Receiving Query to our ML -->\n",
        "<form action=\"{{ url_for('predict')}}\"method=\"get\">\n",
        "\n",
        "\n",
        "<div class=\"form-floating mb-3\">\n",
        "\n",
        "<input type=\"number\" class=\"form-control\" id=\"10th\" name=\"10th\" step=\"any\" min=\"0.0\" max=\"100.0\" placeholder=\"0\" required=\"required\">\n",
        "<label for=\"floatingInput\">Enter 10th Marks</label>\n",
        "</div>\n",
        "<br>\n",
        "\n",
        "<div class=\"form-floating mb-3\">\n",
        "\n",
        "<input type=\"number\" class=\"form-control\" id=\"12th\" name=\"12th\" step=\"any\" min=\"0.0\" max=\"100.0\" placeholder=\"0\" required=\"required\">\n",
        "<label for=\"floatingInput\">Enter 12th Marks</label>\n",
        "</div>\n",
        "<br>\n",
        "\n",
        "<div class=\"form-floating mb-3\">\n",
        "\n",
        "<input type=\"number\" class=\"form-control\" id=\"B.Tech\" name=\"B.Tech\" step=\"any\" min=\"0.0\" max=\"100.0\" placeholder=\"0\" required=\"required\">\n",
        "<label for=\"floatingInput\">Enter B.Tech Marks</label>\n",
        "</div>\n",
        "<br>\n",
        "\n",
        "<div class=\"form-floating mb-3\">\n",
        "\n",
        "<input type=\"number\" class=\"form-control\" id=\"7-SEM\" name=\"7-SEM\" step=\"any\" min=\"0.0\" max=\"100.0\" placeholder=\"0\" required=\"required\">\n",
        "<label for=\"floatingInput\">Enter 7-SEM Marks</label>\n",
        "</div>\n",
        "<br>\n",
        "\n",
        "<div class=\"form-floating mb-3\">\n",
        "\n",
        "<input type=\"number\" class=\"form-control\" id=\"6-SEM\" name=\"6-SEM\" step=\"any\" min=\"0.0\" max=\"100.0\" placeholder=\"0\" required=\"required\">\n",
        "<label for=\"floatingInput\">Enter 6-SEM Marks</label>\n",
        "</div>\n",
        "<br>\n",
        "\n",
        "<div class=\"form-floating mb-3\">\n",
        "\n",
        "<input type=\"number\" class=\"form-control\" id=\"5-SEM\" name=\"5-SEM\" step=\"any\" min=\"0.0\" max=\"100.0\" placeholder=\"0\" required=\"required\">\n",
        "<label for=\"floatingInput\">Enter 5-SEM Marks</label>\n",
        "</div>\n",
        "<br>\n",
        "\n",
        "<div class=\"form-floating mb-3\">\n",
        "\n",
        "<input type=\"number\" class=\"form-control\" id=\"Final Performance\" name=\"Final Performance\" step=\"any\" min=\"0.0\" max=\"100.0\" placeholder=\"0\" required=\"required\">\n",
        "<label for=\"floatingInput\">Enter Final Performance Marks</label>\n",
        "</div>\n",
        "<br>\n",
        "\n",
        "<div class=\"form-floating mb-3\">\n",
        "\n",
        "<input type=\"number\" class=\"form-control\" id=\"Medium\" name=\"Medium\" step=\"any\" min=\"1\" max=\"2\" placeholder=\"0\" required=\"required\">\n",
        "<label for=\"floatingInput\">Enter Medium</label>\n",
        "</div>\n",
        "<br>\n",
        "\n",
        "<br>\n",
        " <div class=\"col-md-4\" style=\"color: #FFF;\">\n",
        "                <label for=\"inputState\" class=\"form-label\">Choose a Model</label>\n",
        "                <select id=\"Model\" name =\"Model\" step = \"any\" class=\"form-select\" required>\n",
        "                    <option selected>Logistic Prediction</option>\n",
        "                    <option>Naive Bayes Prediction</option>\n",
        "                    <option>SVM Prediction</option>\n",
        "                    <option>Random Forest Prediction</option>\n",
        "                    <option>Decision Tree Prediction</option>\n",
        "                    <option>KNN Prediction</option>\n",
        "                </select>\n",
        "            </div>\n",
        "            <br>\n",
        "            <div class=\"col-12\">\n",
        "                <button type=\"submit\" value=\"NB\" name=\"NB\" class=\"btn btn-outline-danger\">Submit</button>\n",
        "            </div>\n",
        "</form>\n",
        "<br>\n",
        "<br>\n",
        "\n",
        "<div class=\"myDiv\">\n",
        "<h2>\n",
        "{{ prediction_text }}\n",
        "</h2>\n",
        "</div>\n",
        "\n",
        "</div>\n",
        "\n",
        "<div class=\"\" style=\"background-color:green;\" >\n",
        "<div class=\"clearfix\">\n",
        "           \n",
        "<div class=\"col-md-12\">\n",
        " <center><p style=\"font-size:25px;color:white;margin-top:20px;border: 10px outset #37b486;\">Experiment Performed in Summer internship 2022 from 27 June to 8 August </p></center> \n",
        "</div>\n",
        "\n",
        "</div>\n",
        "</div>\n",
        "</body>\n",
        "</html>"
      ],
      "metadata": {
        "id": "hNB4RiF9RFL-",
        "colab": {
          "base_uri": "https://localhost:8080/"
        },
        "outputId": "8897aa70-6bf2-4498-a2cd-fd8ab5f60728"
      },
      "execution_count": null,
      "outputs": [
        {
          "output_type": "stream",
          "name": "stdout",
          "text": [
            "Overwriting templates/index.html\n"
          ]
        }
      ]
    },
    {
      "cell_type": "code",
      "source": [
        "!pip install flask-ngrok"
      ],
      "metadata": {
        "colab": {
          "base_uri": "https://localhost:8080/"
        },
        "id": "879RioPLZ8vN",
        "outputId": "9cc7eb54-f4c3-4672-c116-f69985fcc878"
      },
      "execution_count": null,
      "outputs": [
        {
          "output_type": "stream",
          "name": "stdout",
          "text": [
            "Looking in indexes: https://pypi.org/simple, https://us-python.pkg.dev/colab-wheels/public/simple/\n",
            "Requirement already satisfied: flask-ngrok in /usr/local/lib/python3.7/dist-packages (0.0.25)\n",
            "Requirement already satisfied: Flask>=0.8 in /usr/local/lib/python3.7/dist-packages (from flask-ngrok) (1.1.4)\n",
            "Requirement already satisfied: requests in /usr/local/lib/python3.7/dist-packages (from flask-ngrok) (2.23.0)\n",
            "Requirement already satisfied: click<8.0,>=5.1 in /usr/local/lib/python3.7/dist-packages (from Flask>=0.8->flask-ngrok) (7.1.2)\n",
            "Requirement already satisfied: itsdangerous<2.0,>=0.24 in /usr/local/lib/python3.7/dist-packages (from Flask>=0.8->flask-ngrok) (1.1.0)\n",
            "Requirement already satisfied: Werkzeug<2.0,>=0.15 in /usr/local/lib/python3.7/dist-packages (from Flask>=0.8->flask-ngrok) (1.0.1)\n",
            "Requirement already satisfied: Jinja2<3.0,>=2.10.1 in /usr/local/lib/python3.7/dist-packages (from Flask>=0.8->flask-ngrok) (2.11.3)\n",
            "Requirement already satisfied: MarkupSafe>=0.23 in /usr/local/lib/python3.7/dist-packages (from Jinja2<3.0,>=2.10.1->Flask>=0.8->flask-ngrok) (2.0.1)\n",
            "Requirement already satisfied: chardet<4,>=3.0.2 in /usr/local/lib/python3.7/dist-packages (from requests->flask-ngrok) (3.0.4)\n",
            "Requirement already satisfied: idna<3,>=2.5 in /usr/local/lib/python3.7/dist-packages (from requests->flask-ngrok) (2.10)\n",
            "Requirement already satisfied: urllib3!=1.25.0,!=1.25.1,<1.26,>=1.21.1 in /usr/local/lib/python3.7/dist-packages (from requests->flask-ngrok) (1.24.3)\n",
            "Requirement already satisfied: certifi>=2017.4.17 in /usr/local/lib/python3.7/dist-packages (from requests->flask-ngrok) (2022.6.15)\n"
          ]
        }
      ]
    },
    {
      "cell_type": "code",
      "source": [
        "!pip install pyngrok"
      ],
      "metadata": {
        "colab": {
          "base_uri": "https://localhost:8080/"
        },
        "id": "IaQViNJPaAYv",
        "outputId": "94e0343c-9e9f-4799-c0d6-0463b0dafc4a"
      },
      "execution_count": null,
      "outputs": [
        {
          "output_type": "stream",
          "name": "stdout",
          "text": [
            "Looking in indexes: https://pypi.org/simple, https://us-python.pkg.dev/colab-wheels/public/simple/\n",
            "Requirement already satisfied: pyngrok in /usr/local/lib/python3.7/dist-packages (5.1.0)\n",
            "Requirement already satisfied: PyYAML in /usr/local/lib/python3.7/dist-packages (from pyngrok) (3.13)\n"
          ]
        }
      ]
    },
    {
      "cell_type": "code",
      "source": [
        "!ngrok authtoken 2CT4MHWPe5W1c3i8WbPIkMfV3YB_7M1jKwhLC4HVFvS11Rbf"
      ],
      "metadata": {
        "colab": {
          "base_uri": "https://localhost:8080/"
        },
        "id": "o_DulqYmaFE8",
        "outputId": "111449c5-44bb-4d9a-8d79-87bd51d4a264"
      },
      "execution_count": null,
      "outputs": [
        {
          "output_type": "stream",
          "name": "stdout",
          "text": [
            "Authtoken saved to configuration file: /root/.ngrok2/ngrok.yml\n"
          ]
        }
      ]
    },
    {
      "cell_type": "code",
      "source": [
        "import numpy as np\n",
        "from flask import Flask, request, jsonify, render_template\n",
        "from flask_ngrok import run_with_ngrok\n",
        "import pickle\n",
        "\n",
        "\n",
        "app = Flask(__name__)\n",
        "model0 = pickle.load(open('/content/drive/My Drive/Colab Notebooks/Logistic-modelproject-6.pkl','rb'))\n",
        "model1 = pickle.load(open('/content/drive/My Drive/Colab Notebooks/Naive_Bayes-modelproject-6.pkl','rb'))\n",
        "model2 = pickle.load(open('/content/drive/My Drive/Colab Notebooks/SVM-modelproject-6.pkl','rb'))\n",
        "model3 = pickle.load(open('/content/drive/My Drive/Colab Notebooks/Random_Forest-modelproject-6.pkl','rb'))\n",
        "model4 = pickle.load(open('/content/drive/My Drive/Colab Notebooks/Decision_Tree-modelproject-6.pkl','rb'))\n",
        "model5 = pickle.load(open('/content/drive/My Drive/Colab Notebooks/KNN-modelproject-6.pkl','rb'))\n",
        "run_with_ngrok(app)\n",
        "\n",
        "@app.route('/')\n",
        "def home():\n",
        "  \n",
        "    return render_template(\"index.html\")\n",
        "  \n",
        "@app.route('/predict',methods=['GET'])\n",
        "\n",
        "def predict():\n",
        "    \n",
        "    Tenth = float(request.args.get('10th'))\n",
        "    Twelth = float(request.args.get('12th'))\n",
        "    BTech = float(request.args.get('B.Tech'))\n",
        "    SeventhSEM = float(request.args.get('7-SEM'))\n",
        "    SixthSEM = float(request.args.get('6-SEM'))\n",
        "    FifthSEM = float(request.args.get('5-SEM'))\n",
        "    FinalPerformance = float(request.args.get('Final Performance'))\n",
        "    Medium = int(request.args.get('Medium'))\n",
        "\n",
        "# CreditScore\tGeography\tGender\tAge\tTenure\tBalance\tNumOfProducts\tHasCrCard\tIsActiveMember\tEstimatedSalary\n",
        "    Model = str(request.args.get('Model'))\n",
        "\n",
        "    if Model=='Logistic Prediction':\n",
        "      prediction = model0.predict([[Tenth,Twelth,BTech,SeventhSEM,SixthSEM,FifthSEM,FinalPerformance,Medium]])\n",
        "    \n",
        "    elif Model=='Naive Bayes Prediction':\n",
        "      prediction = model1.predict([[Tenth,Twelth,BTech,SeventhSEM,SixthSEM,FifthSEM,FinalPerformance,Medium]])\n",
        "    \n",
        "    elif Model=='SVM Prediction':\n",
        "      prediction = model2.predict([[Tenth,Twelth,BTech,SeventhSEM,SixthSEM,FifthSEM,FinalPerformance,Medium]])\n",
        "\n",
        "    elif Model=='Random Forest Prediction':\n",
        "      prediction = model3.predict([[Tenth,Twelth,BTech,SeventhSEM,SixthSEM,FifthSEM,FinalPerformance,Medium]])\n",
        "\n",
        "    elif Model=='Decision Tree Prediction':\n",
        "      prediction = model4.predict([[Tenth,Twelth,BTech,SeventhSEM,SixthSEM,FifthSEM,FinalPerformance,Medium]])\n",
        "    \n",
        "    else:\n",
        "      prediction = model5.predict([[Tenth,Twelth,BTech,SeventhSEM,SixthSEM,FifthSEM,FinalPerformance,Medium]])\n",
        "\n",
        "    \n",
        "    if prediction == [1]:\n",
        "      text = \"Student is Placed\"\n",
        "    else:\n",
        "      text = \"Student is not Placed\"\n",
        "\n",
        "    return render_template('index.html', prediction_text='Logistic Regression Algorithm Prediction: {}'.format(text))\n",
        "\n",
        "app.run()\n"
      ],
      "metadata": {
        "colab": {
          "base_uri": "https://localhost:8080/"
        },
        "id": "k8AEZoEkaQkm",
        "outputId": "118b72c5-878a-48d8-8672-fc5420e89b3f"
      },
      "execution_count": null,
      "outputs": [
        {
          "output_type": "stream",
          "name": "stdout",
          "text": [
            " * Serving Flask app \"__main__\" (lazy loading)\n",
            " * Environment: production\n",
            "\u001b[31m   WARNING: This is a development server. Do not use it in a production deployment.\u001b[0m\n",
            "\u001b[2m   Use a production WSGI server instead.\u001b[0m\n",
            " * Debug mode: off\n"
          ]
        },
        {
          "output_type": "stream",
          "name": "stderr",
          "text": [
            "INFO:werkzeug: * Running on http://127.0.0.1:5000/ (Press CTRL+C to quit)\n"
          ]
        },
        {
          "output_type": "stream",
          "name": "stdout",
          "text": [
            " * Running on http://2581-34-86-48-236.ngrok.io\n",
            " * Traffic stats available on http://127.0.0.1:4040\n"
          ]
        },
        {
          "output_type": "stream",
          "name": "stderr",
          "text": [
            "INFO:werkzeug:127.0.0.1 - - [10/Aug/2022 06:34:35] \"\u001b[37mGET / HTTP/1.1\u001b[0m\" 200 -\n",
            "INFO:werkzeug:127.0.0.1 - - [10/Aug/2022 06:34:40] \"\u001b[33mGET /favicon.ico HTTP/1.1\u001b[0m\" 404 -\n",
            "INFO:werkzeug:127.0.0.1 - - [10/Aug/2022 06:36:44] \"\u001b[37mGET /predict?10th=63.5&12th=59.6&B.Tech=59.9&7-SEM=50.74&6-SEM=36.22&5-SEM=4.94&Final+Performance=43.66&Medium=1&Model=Naive+Bayes+Prediction&NB=NB HTTP/1.1\u001b[0m\" 200 -\n",
            "INFO:werkzeug:127.0.0.1 - - [10/Aug/2022 06:37:12] \"\u001b[37mGET /predict?10th=63.5&12th=59.6&B.Tech=59.9&7-SEM=50.74&6-SEM=36.22&5-SEM=4.94&Final+Performance=43.66&Medium=1&Model=Logistic+Prediction&NB=NB HTTP/1.1\u001b[0m\" 200 -\n",
            "INFO:werkzeug:127.0.0.1 - - [10/Aug/2022 06:39:05] \"\u001b[37mGET /predict?10th=63.5&12th=59.6&B.Tech=59.9&7-SEM=50.74&6-SEM=36.22&5-SEM=4.94&Final+Performance=43.66&Medium=2&Model=Logistic+Prediction&NB=NB HTTP/1.1\u001b[0m\" 200 -\n"
          ]
        }
      ]
    },
    {
      "cell_type": "code",
      "source": [],
      "metadata": {
        "id": "ihANHhtzaU0P"
      },
      "execution_count": null,
      "outputs": []
    }
  ]
}